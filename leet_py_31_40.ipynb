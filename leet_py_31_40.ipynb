{
 "cells": [
  {
   "attachments": {},
   "cell_type": "markdown",
   "metadata": {},
   "source": [
    "### 31. 下一个排列"
   ]
  },
  {
   "cell_type": "code",
   "execution_count": null,
   "metadata": {},
   "outputs": [],
   "source": [
    "class Solution:\n",
    "    def nextPermutation(self, nums: list[int]) -> None:\n",
    "        \"\"\"\n",
    "        Do not return anything, modify nums in-place instead.\n",
    "        \"\"\"\n",
    "\n",
    "        def swap_elms(i,j):\n",
    "            while i<j:\n",
    "                nums[i],nums[j]=nums[j],nums[i]\n",
    "                i+=1\n",
    "                j-=1\n",
    "\n",
    "        min_pos = None\n",
    "        max_pos = None\n",
    "\n",
    "        i=len(nums)-1\n",
    "        while i>0:\n",
    "            if nums[i-1]<nums[i]:\n",
    "                min_pos = i-1\n",
    "                break\n",
    "            i-=1\n",
    "        \n",
    "        if min_pos is None:\n",
    "            swap_elms(0,len(nums)-1)\n",
    "            return\n",
    "\n",
    "        for j in range(len(nums)-1,min_pos,-1):\n",
    "            if nums[j]>nums[min_pos]:\n",
    "                max_pos = j\n",
    "                break\n",
    "\n",
    "        nums[min_pos],nums[max_pos]=nums[max_pos],nums[min_pos]\n",
    "        swap_elms(min_pos+1,len(nums)-1)"
   ]
  },
  {
   "cell_type": "code",
   "execution_count": null,
   "metadata": {},
   "outputs": [],
   "source": [
    "ss = Solution()\n",
    "ss.nextPermutation(nums=[2,3,1])"
   ]
  },
  {
   "attachments": {},
   "cell_type": "markdown",
   "metadata": {},
   "source": [
    "### 32. 最长有效括号\n",
    "给你一个只包含 '(' 和 ')' 的字符串，找出最长有效（格式正确且连续）括号子串的长度。"
   ]
  },
  {
   "cell_type": "code",
   "execution_count": null,
   "metadata": {},
   "outputs": [],
   "source": [
    "class Solution:\n",
    "    def longestValidParentheses(self, s: str) -> int:\n",
    "        if len(s)==0:\n",
    "            return 0\n",
    "\n",
    "        dp = [0]*len(s)\n",
    "\n",
    "        for i in range(1, len(s)):\n",
    "            if s[i]==')':\n",
    "                if s[i-1] =='(':\n",
    "                    dp[i]= dp[i-2]+2 if i>=2 else 2\n",
    "                else:\n",
    "                    idx = i-dp[i-1]-1 \n",
    "                    if idx>=0 and s[idx]=='(':\n",
    "                        extra = dp[idx-1] if idx-1 >=0 else 0\n",
    "                        dp[i] = dp[i-1] + 2 + extra\n",
    "                \n",
    "        # print(dp)\n",
    "        return max(dp)"
   ]
  },
  {
   "cell_type": "code",
   "execution_count": null,
   "metadata": {},
   "outputs": [],
   "source": [
    "ss = Solution()\n",
    "ss.longestValidParentheses(\"()((()()))\")"
   ]
  },
  {
   "attachments": {},
   "cell_type": "markdown",
   "metadata": {},
   "source": [
    "### 33. 搜索旋转排序数组\n",
    "\n",
    "整数数组 nums 按升序排列，数组中的值 互不相同 。\n",
    "\n",
    "在传递给函数之前，nums 在预先未知的某个下标 k（0 <= k < nums.length）上进行了 旋转，使数组变为 [nums[k], nums[k+1], ..., nums[n-1], nums[0], nums[1], ..., nums[k-1]]（下标 从 0 开始 计数）。例如， [0,1,2,4,5,6,7] 在下标 3 处经旋转后可能变为 [4,5,6,7,0,1,2] 。\n",
    "\n",
    "给你 旋转后 的数组 nums 和一个整数 target ，如果 nums 中存在这个目标值 target ，则返回它的下标，否则返回 -1 。\n",
    "\n",
    "你必须设计一个时间复杂度为 O(log n) 的算法解决此问题。\n"
   ]
  },
  {
   "cell_type": "code",
   "execution_count": null,
   "metadata": {},
   "outputs": [],
   "source": [
    "class Solution:\n",
    "    def search(self, nums: list[int], target: int) -> int:\n",
    "        # if len(nums)==1:\n",
    "        #     if nums[0]==target:\n",
    "        #         return 0\n",
    "        #     else:\n",
    "        #         return -1\n",
    "\n",
    "        i= 0; j= len(nums)-1\n",
    "        while i<=j:\n",
    "            mid = (i+j)//2\n",
    "            if (target >= nums[0] and nums[mid] >= nums[0]) or (target < nums[0] and nums[mid] < nums[0]):\n",
    "                if target > nums[mid]:\n",
    "                    i = mid +1\n",
    "                elif target < nums[mid]:\n",
    "                    j = mid-1\n",
    "                else:\n",
    "                    return mid\n",
    "            elif target >= nums[0] and nums[mid] < nums[0]:\n",
    "                j=mid-1\n",
    "            elif target < nums[0] and nums[mid] >= nums[0]:\n",
    "                i=mid +1\n",
    "        return -1"
   ]
  },
  {
   "cell_type": "code",
   "execution_count": null,
   "metadata": {},
   "outputs": [],
   "source": [
    "ss = Solution()\n",
    "ss.search([1,2,3,4,5], 3)"
   ]
  },
  {
   "attachments": {},
   "cell_type": "markdown",
   "metadata": {},
   "source": [
    "### 34. 在排序数组中查找元素的第一个和最后一个位置\n",
    "\n",
    "给你一个按照非递减顺序排列的整数数组 nums，和一个目标值 target。请你找出给定目标值在数组中的开始位置和结束位置。\n",
    "\n",
    "如果数组中不存在目标值 target，返回 [-1, -1]。\n",
    "\n",
    "你必须设计并实现时间复杂度为 O(log n) 的算法解决此问题。"
   ]
  },
  {
   "cell_type": "code",
   "execution_count": null,
   "metadata": {},
   "outputs": [],
   "source": [
    "class Solution:\n",
    "    def searchRange(self, nums: list[int], target: int) -> list[int]:\n",
    "        i=0; j=len(nums)-1\n",
    "        ans=None\n",
    "\n",
    "        while i<=j:\n",
    "            mid = (i+j)//2\n",
    "            \n",
    "            if target < nums[mid]:\n",
    "                j=mid-1\n",
    "            elif target > nums[mid]:\n",
    "                i=mid+1\n",
    "            else:\n",
    "                ans = mid\n",
    "                break\n",
    "\n",
    "        if ans is None:\n",
    "            return [-1,-1]\n",
    "\n",
    "        min_pos = ans\n",
    "        while min_pos-1>=0 and nums[min_pos-1]==nums[min_pos]:\n",
    "            min_pos -=1\n",
    "\n",
    "        max_pos = ans\n",
    "        while max_pos+1<len(nums) and nums[max_pos+1]==nums[max_pos]:\n",
    "            max_pos +=1\n",
    "\n",
    "        return [min_pos, max_pos]"
   ]
  },
  {
   "cell_type": "code",
   "execution_count": null,
   "metadata": {},
   "outputs": [],
   "source": [
    "ss = Solution()\n",
    "ss.searchRange([],6)"
   ]
  },
  {
   "attachments": {},
   "cell_type": "markdown",
   "metadata": {},
   "source": [
    "### 35. 搜索插入位置\n",
    "\n",
    "给定一个排序数组和一个目标值，在数组中找到目标值，并返回其索引。如果目标值不存在于数组中，返回它将会被按顺序插入的位置。\n",
    "\n",
    "请必须使用时间复杂度为 O(log n) 的算法。\n",
    "\n"
   ]
  },
  {
   "cell_type": "code",
   "execution_count": null,
   "metadata": {},
   "outputs": [],
   "source": [
    "class Solution:\n",
    "    def searchInsert(self, nums: list[int], target: int) -> int:\n",
    "        i=0; j=len(nums)-1\n",
    "        while i<=j:\n",
    "            mid = (i+j)//2\n",
    "            if nums[mid]>target:\n",
    "                j= mid -1 \n",
    "            elif nums[mid]<target:\n",
    "                i = mid +1\n",
    "            else:\n",
    "                return mid\n",
    "\n",
    "        if i>mid:\n",
    "            return i\n",
    "        elif j<mid:\n",
    "            return mid"
   ]
  },
  {
   "cell_type": "code",
   "execution_count": null,
   "metadata": {},
   "outputs": [],
   "source": [
    "ss = Solution()\n",
    "ss.searchInsert(nums=[1,3,5,6],target=7)"
   ]
  },
  {
   "attachments": {},
   "cell_type": "markdown",
   "metadata": {},
   "source": [
    "### 36. 有效的数独\n",
    "\n",
    "请你判断一个 9 x 9 的数独是否有效。只需要 根据以下规则 ，验证已经填入的数字是否有效即可。\n",
    "\n",
    "数字 1-9 在每一行只能出现一次。\n",
    "数字 1-9 在每一列只能出现一次。\n",
    "数字 1-9 在每一个以粗实线分隔的 3x3 宫内只能出现一次。（请参考示例图）\n",
    " \n",
    "\n",
    "注意：\n",
    "\n",
    "一个有效的数独（部分已被填充）不一定是可解的。\n",
    "只需要根据以上规则，验证已经填入的数字是否有效即可。\n",
    "空白格用 '.' 表示。"
   ]
  },
  {
   "cell_type": "code",
   "execution_count": null,
   "metadata": {},
   "outputs": [],
   "source": [
    "class Solution:\n",
    "    def isValidSudoku(self, board: list[list[str]]) -> bool:\n",
    "        for i in range(len(board)):\n",
    "            alphas = ''.join(board[i]).replace('.','')\n",
    "            if len(alphas)!= len(set(alphas)):\n",
    "                return False\n",
    "        for j in range(len(board)):\n",
    "            alphas =''\n",
    "            for k in range(len(board)):\n",
    "                alphas += board[k][j]\n",
    "            alphas = alphas.replace('.','')\n",
    "\n",
    "            if len(alphas)!=len(set(alphas)):\n",
    "                return False\n",
    "        for i in range(0,len(board),3):\n",
    "            for j in range(0,len(board),3):\n",
    "                alphas = ''\n",
    "                for i1 in range(0,3):\n",
    "                    for j1 in range(0,3):\n",
    "                        alphas += board[i+i1][j+j1]\n",
    "                alphas = alphas.replace('.','')\n",
    "\n",
    "                if len(alphas)!=len(set(alphas)):\n",
    "                    return False  \n",
    "\n",
    "        return True "
   ]
  },
  {
   "cell_type": "code",
   "execution_count": null,
   "metadata": {},
   "outputs": [],
   "source": [
    "ss = Solution()\n",
    "board = [\n",
    "[\".\",\"4\",\".\",\".\",\".\",\".\",\".\",\".\",\".\"],\n",
    "[\".\",\".\",\"4\",\".\",\".\",\".\",\".\",\".\",\".\"],\n",
    "[\".\",\".\",\".\",\"1\",\".\",\".\",\"7\",\".\",\".\"],\n",
    "[\".\",\".\",\".\",\".\",\".\",\".\",\".\",\".\",\".\"],\n",
    "[\".\",\".\",\".\",\"3\",\".\",\".\",\".\",\"6\",\".\"],\n",
    "[\".\",\".\",\".\",\".\",\".\",\"6\",\".\",\"9\",\".\"],\n",
    "[\".\",\".\",\".\",\".\",\"1\",\".\",\".\",\".\",\".\"],\n",
    "[\".\",\".\",\".\",\".\",\".\",\".\",\"2\",\".\",\".\"],\n",
    "[\".\",\".\",\".\",\"8\",\".\",\".\",\".\",\".\",\".\"]]\n",
    "ss.isValidSudoku(board)\n"
   ]
  },
  {
   "attachments": {},
   "cell_type": "markdown",
   "metadata": {},
   "source": [
    "### 37. 解数独\n",
    "编写一个程序，通过填充空格来解决数独问题。\n",
    "\n",
    "数独的解法需 遵循如下规则：\n",
    "\n",
    "数字 1-9 在每一行只能出现一次。\n",
    "数字 1-9 在每一列只能出现一次。\n",
    "数字 1-9 在每一个以粗实线分隔的 3x3 宫内只能出现一次。（请参考示例图）\n",
    "数独部分空格内已填入了数字，空白格用 '.' 表示。"
   ]
  },
  {
   "cell_type": "code",
   "execution_count": null,
   "metadata": {},
   "outputs": [],
   "source": [
    "class Solution:\n",
    "    def solveSudoku(self, board: list[list[str]]) -> None:\n",
    "        \"\"\"\n",
    "        Do not return anything, modify board in-place instead.\n",
    "        \"\"\"\n",
    "        line = [[False]*9 for _ in range(9)]\n",
    "        column = [[False]*9 for _ in range(9)]\n",
    "        block = [[[False]*9 for i in range(3)] for i in range(3)]\n",
    "        spaces = []\n",
    "\n",
    "        for i in range(len(board)):\n",
    "            for j in range(len(board[i])):\n",
    "                if board[i][j]!='.':\n",
    "                    num = int(board[i][j])\n",
    "                    line[i][num-1]=True\n",
    "                    column[j][num-1]=True\n",
    "                    block[i//3][j//3][num-1]=True\n",
    "                else:\n",
    "                    spaces.append((i,j))\n",
    "\n",
    "        finish_flag = False\n",
    "\n",
    "        def dfs(pos: int):\n",
    "            nonlocal finish_flag\n",
    "\n",
    "            if pos == len(spaces):\n",
    "                finish_flag = True\n",
    "                return \n",
    "            \n",
    "            i,j = spaces[pos]\n",
    "            for digit in range(9):\n",
    "                if line[i][digit] == column[j][digit] == block[i//3][j//3][digit]==False:\n",
    "                    line[i][digit] = column[j][digit] = block[i//3][j//3][digit]=True\n",
    "                    board[i][j] = str(digit+1)\n",
    "                    dfs(pos+1)\n",
    "                    line[i][digit]= column[j][digit]=block[i//3][j//3][digit]=False\n",
    "                if finish_flag:\n",
    "                    return \n",
    "                                     \n",
    "        dfs(0)            "
   ]
  },
  {
   "cell_type": "code",
   "execution_count": null,
   "metadata": {},
   "outputs": [],
   "source": [
    "board = [[\"5\",\"3\",\".\",\".\",\"7\",\".\",\".\",\".\",\".\"],[\"6\",\".\",\".\",\"1\",\"9\",\"5\",\".\",\".\",\".\"],[\".\",\"9\",\"8\",\".\",\".\",\".\",\".\",\"6\",\".\"],[\"8\",\".\",\".\",\".\",\"6\",\".\",\".\",\".\",\"3\"],[\"4\",\".\",\".\",\"8\",\".\",\"3\",\".\",\".\",\"1\"],[\"7\",\".\",\".\",\".\",\"2\",\".\",\".\",\".\",\"6\"],[\".\",\"6\",\".\",\".\",\".\",\".\",\"2\",\"8\",\".\"],[\".\",\".\",\".\",\"4\",\"1\",\"9\",\".\",\".\",\"5\"],[\".\",\".\",\".\",\".\",\"8\",\".\",\".\",\"7\",\"9\"]]\n",
    "\n",
    "ss = Solution()\n",
    "ss.solveSudoku(board)"
   ]
  },
  {
   "attachments": {},
   "cell_type": "markdown",
   "metadata": {},
   "source": [
    "### 38. 外观数列\n",
    "\n",
    "给定一个正整数 n ，输出外观数列的第 n 项。\n",
    "\n",
    "「外观数列」是一个整数序列，从数字 1 开始，序列中的每一项都是对前一项的描述。\n",
    "\n",
    "你可以将其视作是由递归公式定义的数字字符串序列：\n",
    "\n",
    "countAndSay(1) = \"1\"\n",
    "countAndSay(n) 是对 countAndSay(n-1) 的描述，然后转换成另一个数字字符串。"
   ]
  },
  {
   "cell_type": "code",
   "execution_count": null,
   "metadata": {},
   "outputs": [],
   "source": [
    "class Solution:\n",
    "    def countAndSay(self, n: int) -> str:\n",
    "        \n",
    "        def sub_app(n:int):\n",
    "            if n==1:\n",
    "                return '1'\n",
    "                \n",
    "            num_str = sub_app(n-1)\n",
    "            \n",
    "            count_say_str = ''\n",
    "\n",
    "            count = 1\n",
    "            curr_num = num_str[0]\n",
    "\n",
    "            for i in range(1,len(num_str)):\n",
    "                if num_str[i]==num_str[i-1]:\n",
    "                    count+=1\n",
    "                else:\n",
    "                    count_say_str += (str(count) + curr_num)\n",
    "                    count = 1\n",
    "                    curr_num = num_str[i]\n",
    "            \n",
    "            count_say_str += (str(count)+curr_num)\n",
    "\n",
    "            return count_say_str\n",
    "\n",
    "        return sub_app(n)\n",
    "        "
   ]
  },
  {
   "cell_type": "code",
   "execution_count": null,
   "metadata": {},
   "outputs": [],
   "source": [
    "ss = Solution()\n",
    "ss.countAndSay(5)"
   ]
  },
  {
   "attachments": {},
   "cell_type": "markdown",
   "metadata": {},
   "source": [
    "### 39. 组合总和\n",
    "给你一个 无重复元素 的整数数组 candidates 和一个目标整数 target ，找出 candidates 中可以使数字和为目标数 target 的 所有 不同组合 ，并以列表形式返回。你可以按 任意顺序 返回这些组合。\n",
    "\n",
    "candidates 中的 同一个 数字可以 无限制重复被选取 。如果至少一个数字的被选数量不同，则两种组合是不同的。 \n",
    "\n",
    "对于给定的输入，保证和为 target 的不同组合数少于 150 个。"
   ]
  },
  {
   "cell_type": "code",
   "execution_count": null,
   "metadata": {},
   "outputs": [],
   "source": [
    "\n",
    "\n",
    "class Solution:\n",
    "\n",
    "    def combinationSum(self, candidates: list[int], target: int) -> list[list[int]]:\n",
    "        solutions = []\n",
    "\n",
    "        def dfs(target:int, combine:list, idx:int):\n",
    "            if target ==0:\n",
    "                ## 一定要它的copy 而不能是引用\n",
    "                solutions.append(combine[:])\n",
    "                return \n",
    "\n",
    "            if idx == len(candidates):\n",
    "                return \n",
    "\n",
    "            # choose candidates[idx]\n",
    "            if candidates[idx]<=target:\n",
    "                target -= candidates[idx]\n",
    "                combine.append(candidates[idx])\n",
    "\n",
    "                dfs(target, combine, idx)\n",
    "                target += candidates[idx]\n",
    "                combine.pop()\n",
    "                \n",
    "            # not choose candidates[idx]: choose next \n",
    "            dfs(target, combine, idx+1)\n",
    "\n",
    "        dfs(target,[], 0)\n",
    "\n",
    "        return solutions"
   ]
  },
  {
   "cell_type": "code",
   "execution_count": null,
   "metadata": {},
   "outputs": [],
   "source": [
    "ss = Solution()\n",
    "ss.combinationSum([2,3,6,7],7)"
   ]
  },
  {
   "attachments": {},
   "cell_type": "markdown",
   "metadata": {},
   "source": [
    "### 40. 组合总和 II\n",
    "\n",
    "给定一个候选人编号的集合 candidates 和一个目标数 target ，找出 candidates 中所有可以使数字和为 target 的组合。\n",
    "\n",
    "candidates 中的每个数字在每个组合中只能使用 一次 。\n",
    "\n",
    "注意：解集不能包含重复的组合。 \n"
   ]
  },
  {
   "cell_type": "code",
   "execution_count": 1,
   "metadata": {},
   "outputs": [],
   "source": [
    "class Solution:\n",
    "    def combinationSum2(self, candidates: list[int], target: int) -> list[list[int]]:\n",
    "\n",
    "        solutions = []\n",
    "        candidates.sort()\n",
    "\n",
    "        def dfs(target:int, combine:list, begin:int):\n",
    "            if target ==0:\n",
    "                solutions.append(combine[:])\n",
    "                return\n",
    "\n",
    "            for i in range(begin,len(candidates)):\n",
    "                if candidates[i] > target:\n",
    "                    break\n",
    "                if i > begin and candidates[i-1] == candidates[i]:\n",
    "                    continue \n",
    "                combine.append(candidates[i])\n",
    "                dfs(target-candidates[i],combine,i+1)\n",
    "                combine.pop()    \n",
    "        \n",
    "        dfs(target,[],0)\n",
    "\n",
    "        return solutions "
   ]
  },
  {
   "cell_type": "code",
   "execution_count": 2,
   "metadata": {},
   "outputs": [
    {
     "name": "stdout",
     "output_type": "stream",
     "text": [
      "[[1, 1, 1, 1, 1, 1, 1, 1, 1, 1, 1, 1, 1, 1, 1, 1, 1, 1, 1, 1, 1, 1, 1, 1, 1, 1, 1, 1, 1, 1]]\n"
     ]
    }
   ],
   "source": [
    "ss = Solution()\n",
    "ret = ss.combinationSum2([1,1,1,1,1,1,1,1,1,1,1,1,1,1,1,1,1,1,1,1,1,1,1,1,1,1,1,1,1,1,1,1,1,1,1,1,1,1,1,1,1,1,1,1,1,1,1,1,1,1,1,1,1,1,1,1,1,1,1,1,1,1,1,1,1,1,1,1,1,1,1,1,1,1,1,1,1,1,1,1,1,1,1,1,1,1,1,1,1,1,1,1,1,1,1,1,1,1,1,1],\n",
    "target=30)\n",
    "print(ret)"
   ]
  },
  {
   "cell_type": "code",
   "execution_count": null,
   "metadata": {},
   "outputs": [],
   "source": []
  }
 ],
 "metadata": {
  "kernelspec": {
   "display_name": "Python 3",
   "language": "python",
   "name": "python3"
  },
  "language_info": {
   "codemirror_mode": {
    "name": "ipython",
    "version": 3
   },
   "file_extension": ".py",
   "mimetype": "text/x-python",
   "name": "python",
   "nbconvert_exporter": "python",
   "pygments_lexer": "ipython3",
   "version": "3.9.13 (main, Aug 25 2022, 23:26:10) \n[GCC 11.2.0]"
  },
  "orig_nbformat": 4,
  "vscode": {
   "interpreter": {
    "hash": "be59c0aa2c1e192ef7afd22392aaf33d8b2449179640b24bdb1e1e8b645b56b6"
   }
  }
 },
 "nbformat": 4,
 "nbformat_minor": 2
}
