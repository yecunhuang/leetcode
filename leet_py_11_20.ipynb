{
 "cells": [
  {
   "attachments": {},
   "cell_type": "markdown",
   "metadata": {},
   "source": [
    "### 11 盛最多的水"
   ]
  },
  {
   "cell_type": "code",
   "execution_count": 8,
   "metadata": {},
   "outputs": [],
   "source": [
    "class Solution:\n",
    "    def maxArea2(self, height: list[int]) -> int:\n",
    "        dp = [0]*len(height)\n",
    "        for i in range(len(height)):\n",
    "            j=i-1\n",
    "            max_area = 0\n",
    "            while j>=0:\n",
    "                area = min(height[j],height[i])*(i-j)\n",
    "                max_area = max(area,max_area)\n",
    "                j-=1\n",
    "            dp[i]=max_area\n",
    "        return max(dp)   \n",
    "\n",
    "\n",
    "    def maxArea(self, height: list[int]) ->int:\n",
    "        i=0;j=len(height)-1\n",
    "        max_area = 0\n",
    "        while i<j:\n",
    "            area = min(height[i],height[j])*(j-i)\n",
    "            max_area = max(max_area,area)\n",
    "            if height[i]<=height[j]:\n",
    "                i+=1\n",
    "            else:\n",
    "                j-=1\n",
    "        return max_area\n"
   ]
  },
  {
   "cell_type": "code",
   "execution_count": 12,
   "metadata": {},
   "outputs": [
    {
     "name": "stdout",
     "output_type": "stream",
     "text": [
      "49\n"
     ]
    }
   ],
   "source": [
    "height = [1,8,6,2,5,4,8,3,7]\n",
    "ss = Solution()\n",
    "ret = ss.maxArea(height)\n",
    "print(ret)"
   ]
  },
  {
   "attachments": {},
   "cell_type": "markdown",
   "metadata": {},
   "source": [
    "### 12. 整数转罗马数字"
   ]
  },
  {
   "cell_type": "code",
   "execution_count": 23,
   "metadata": {},
   "outputs": [],
   "source": [
    "class Solution:\n",
    "    def intToRoman(self, num: int) -> str:\n",
    "        str_f = 'M' * (num//1000)\n",
    "        num = num - (num//1000)*1000\n",
    "\n",
    "        n_1 = num//100\n",
    "        if n_1 == 4:\n",
    "            str_f += 'CD'\n",
    "        elif n_1 == 9:\n",
    "            str_f +='CM'\n",
    "        elif n_1>=1 and n_1<=3:\n",
    "            str_f += 'C'*n_1\n",
    "        elif n_1>=5:\n",
    "            str_f += 'D'+'C'*(n_1-5)\n",
    "        \n",
    "        num = num - 100*(num//100)\n",
    "        n_2 = num//10\n",
    "        if n_2 == 4:\n",
    "            str_f += 'XL'\n",
    "        elif n_2 == 9:\n",
    "            str_f += 'XC'\n",
    "        elif n_2 >= 1 and n_2 <=3:\n",
    "            str_f += 'X'*n_2\n",
    "        elif n_2>=5:\n",
    "            str_f += 'L' + 'X'*(n_2-5)\n",
    "        \n",
    "        num = num - 10*(num//10)\n",
    "        if num == 4:\n",
    "            str_f += 'IV'\n",
    "        elif  num == 9:\n",
    "            str_f += 'IX'\n",
    "        elif num >=1 and num <=3:\n",
    "            str_f += 'I'*num\n",
    "        elif num >=5:\n",
    "            str_f += 'V'+ 'I'* (num-5)\n",
    "        \n",
    "        return str_f"
   ]
  },
  {
   "cell_type": "code",
   "execution_count": 24,
   "metadata": {},
   "outputs": [
    {
     "name": "stdout",
     "output_type": "stream",
     "text": [
      "\n"
     ]
    }
   ],
   "source": [
    "ss =Solution()\n",
    "ret = ss.intToRoman(0)\n",
    "print(ret)"
   ]
  },
  {
   "attachments": {},
   "cell_type": "markdown",
   "metadata": {},
   "source": [
    "### 13. 罗马数字转整数"
   ]
  },
  {
   "cell_type": "code",
   "execution_count": 34,
   "metadata": {},
   "outputs": [],
   "source": [
    "class Solution:\n",
    "    def romanToInt(self, s: str) -> int:\n",
    "        mapping = {'I':1,'V':5,'X':10,'L':50,'C':100,'D':500,'M':1000}\n",
    "        sum = 0\n",
    "        i=0\n",
    "        while i<len(s):\n",
    "            s_elm = s[i]\n",
    "            if s_elm == 'I' and i+1 < len(s) and s[i+1]=='V':\n",
    "                sum += 4\n",
    "                i+=2\n",
    "            elif s_elm == 'I' and i+1 < len(s) and s[i+1]=='X':\n",
    "                sum += 9\n",
    "                i+=2\n",
    "            elif s_elm == 'X' and i+1 < len(s) and s[i+1]=='L':\n",
    "                sum += 40\n",
    "                i+=2\n",
    "            elif s_elm == 'X' and i+1 <len(s) and s[i+1] == 'C':\n",
    "                sum += 90\n",
    "                i+=2\n",
    "            elif s_elm == 'C' and i+1 <len(s) and s[i+1] == 'D':\n",
    "                sum += 400\n",
    "                i+=2\n",
    "            elif s_elm == 'C' and i+1 <len(s) and s[i+1] == 'M':\n",
    "                sum += 900\n",
    "                i+=2\n",
    "            else:\n",
    "                sum += mapping[s_elm]\n",
    "                i+=1\n",
    "        return sum"
   ]
  },
  {
   "cell_type": "code",
   "execution_count": 35,
   "metadata": {},
   "outputs": [
    {
     "name": "stdout",
     "output_type": "stream",
     "text": [
      "3045\n"
     ]
    }
   ],
   "source": [
    "ss = Solution()\n",
    "ret = ss.romanToInt(\"MMMXLV\")\n",
    "print(ret)"
   ]
  },
  {
   "attachments": {},
   "cell_type": "markdown",
   "metadata": {},
   "source": [
    "### 14. 最长公共前缀\n",
    "\n",
    "思路是先排序，然后比较第一个和最后一个"
   ]
  },
  {
   "cell_type": "code",
   "execution_count": 2,
   "metadata": {},
   "outputs": [],
   "source": [
    "class Solution:\n",
    "    def longestCommonPrefix(self, strs: list[str]) -> str:\n",
    "        strs_sorted =sorted(strs)\n",
    "        strs_len = len(strs)\n",
    "        \n",
    "        min_str = strs_sorted[0]\n",
    "        max_str = strs_sorted[strs_len-1]\n",
    "\n",
    "        if len(min_str)==0:\n",
    "            return ''\n",
    "\n",
    "        i=0\n",
    "        while i< len(min_str):\n",
    "            if min_str[i]!= max_str[i]:\n",
    "                break\n",
    "            i+=1\n",
    "        return min_str[0:i]\n",
    "\n",
    "    def longestCommonPrefix(self, strs: list[str]) -> str:\n",
    "        max_str = max(strs)\n",
    "        min_str = min(strs)\n",
    "\n",
    "        if len(min_str)==0:\n",
    "            return ''\n",
    "\n",
    "        for idx, s_elm in enumerate(min_str):\n",
    "            if s_elm != max_str[idx]:\n",
    "                return min_str[:idx]\n",
    "        return min_str\n",
    "\n"
   ]
  },
  {
   "cell_type": "code",
   "execution_count": 3,
   "metadata": {},
   "outputs": [
    {
     "data": {
      "text/plain": [
       "'fl'"
      ]
     },
     "execution_count": 3,
     "metadata": {},
     "output_type": "execute_result"
    }
   ],
   "source": [
    "ss =Solution()\n",
    "\n",
    "ss.longestCommonPrefix([\"flower\",\"flow\",\"flight\"])"
   ]
  },
  {
   "attachments": {},
   "cell_type": "markdown",
   "metadata": {},
   "source": [
    "### 15 三数之和"
   ]
  },
  {
   "cell_type": "code",
   "execution_count": 58,
   "metadata": {},
   "outputs": [],
   "source": [
    "class Solution:\n",
    "    def threeSum(self, nums: list[int]) -> list[list[int]]:\n",
    "        nums.sort()\n",
    "        ret = []\n",
    "\n",
    "        for idx,n_elm in enumerate(nums):\n",
    "            if n_elm > 0:\n",
    "                return ret\n",
    "            \n",
    "            if idx>0 and nums[idx]==nums[idx-1]:\n",
    "                continue\n",
    "\n",
    "            l_point = idx+1; r_point = len(nums)-1\n",
    "            while l_point < r_point:\n",
    "                if nums[l_point] + nums[r_point]+ n_elm == 0:\n",
    "                    ret.append([n_elm,nums[l_point],nums[r_point]])\n",
    "                    while l_point < r_point and nums[l_point]==nums[l_point+1]:\n",
    "                        l_point +=1\n",
    "                    while l_point < r_point and nums[r_point]==nums[r_point-1]:\n",
    "                        r_point -=1\n",
    "                    l_point+=1\n",
    "                    r_point-=1\n",
    "\n",
    "                elif nums[l_point] + nums[r_point]+ n_elm >0:\n",
    "                    r_point-=1\n",
    "                else:\n",
    "                    l_point+=1\n",
    "        return ret"
   ]
  },
  {
   "cell_type": "code",
   "execution_count": 62,
   "metadata": {},
   "outputs": [
    {
     "data": {
      "text/plain": [
       "[[0, 0, 0]]"
      ]
     },
     "execution_count": 62,
     "metadata": {},
     "output_type": "execute_result"
    }
   ],
   "source": [
    "ss = Solution()\n",
    "ss.threeSum([0,0,0])"
   ]
  },
  {
   "attachments": {},
   "cell_type": "markdown",
   "metadata": {},
   "source": [
    "### 16 最接近的三数之和"
   ]
  },
  {
   "cell_type": "code",
   "execution_count": 75,
   "metadata": {},
   "outputs": [],
   "source": [
    "class Solution:\n",
    "    def threeSumClosest(self, nums: list[int], target: int) -> int:\n",
    "        min_dis = float('inf')\n",
    "        min_sum = nums[0]+nums[1]+nums[2]\n",
    "\n",
    "        nums.sort()\n",
    "        for idx, num in enumerate(nums):\n",
    "            l_point = idx+1\n",
    "            r_point = len(nums)-1\n",
    "            \n",
    "            while l_point < r_point:\n",
    "                sum = num + nums[l_point]+ nums[r_point]\n",
    "                if abs(sum-target) < min_dis:\n",
    "                    min_dis = abs(sum-target)\n",
    "                    min_sum = sum\n",
    "                \n",
    "                if sum == target:\n",
    "                    return sum\n",
    "                elif sum > target:\n",
    "                    r_point -=1\n",
    "                else:\n",
    "                    l_point +=1\n",
    "\n",
    "        return min_sum\n"
   ]
  },
  {
   "cell_type": "code",
   "execution_count": 76,
   "metadata": {},
   "outputs": [
    {
     "data": {
      "text/plain": [
       "2"
      ]
     },
     "execution_count": 76,
     "metadata": {},
     "output_type": "execute_result"
    }
   ],
   "source": [
    "ss = Solution()\n",
    "ss.threeSumClosest([-1,2,1,-4],target=1)"
   ]
  },
  {
   "attachments": {},
   "cell_type": "markdown",
   "metadata": {},
   "source": [
    "### 17. 电话号码的字母组合"
   ]
  },
  {
   "cell_type": "code",
   "execution_count": 13,
   "metadata": {},
   "outputs": [],
   "source": [
    "class Solution:\n",
    "    def letterCombinations(self, digits: str) -> list[str]:\n",
    "        if len(digits)==0:\n",
    "            return [] \n",
    "\n",
    "        mappings = {\n",
    "            '2':['a','b','c'],\n",
    "            '3':['d','e','f'],\n",
    "            '4':['g','h','i'],\n",
    "            '5':['j','k','l'],\n",
    "            '6':['m','n','o'],\n",
    "            '7':['p','q','r','s'],\n",
    "            '8':['t','u','v'],\n",
    "            '9':['w','x','y','z']\n",
    "        }\n",
    "        combination = []\n",
    "        combinations = []\n",
    "        \n",
    "        def backtrack(index):\n",
    "            if index == len(digits):\n",
    "                combinations.append(''.join(combination))\n",
    "            else:\n",
    "                nums = digits[index]\n",
    "                for alpha in mappings[nums]:\n",
    "                    combination.append(alpha)\n",
    "                    backtrack(index+1)\n",
    "                    combination.pop()\n",
    "        backtrack(0)\n",
    "        return combinations"
   ]
  },
  {
   "cell_type": "code",
   "execution_count": 14,
   "metadata": {},
   "outputs": [
    {
     "name": "stdout",
     "output_type": "stream",
     "text": [
      "['dgj', 'dgk', 'dgl', 'dhj', 'dhk', 'dhl', 'dij', 'dik', 'dil', 'egj', 'egk', 'egl', 'ehj', 'ehk', 'ehl', 'eij', 'eik', 'eil', 'fgj', 'fgk', 'fgl', 'fhj', 'fhk', 'fhl', 'fij', 'fik', 'fil']\n"
     ]
    }
   ],
   "source": [
    "ss = Solution()\n",
    "ret = ss.letterCombinations('345')\n",
    "print(ret)"
   ]
  },
  {
   "attachments": {},
   "cell_type": "markdown",
   "metadata": {},
   "source": [
    "### 18. 四数之和"
   ]
  },
  {
   "cell_type": "code",
   "execution_count": 48,
   "metadata": {},
   "outputs": [],
   "source": [
    "class Solution:\n",
    "    def fourSum(self, nums: list[int], target: int) -> list[list[int]]:\n",
    "        if len(nums)<4:\n",
    "            return []\n",
    "\n",
    "        nums.sort()\n",
    "        ret =[]\n",
    "\n",
    "        for i in range(len(nums)):\n",
    "            if i>0 and nums[i]==nums[i-1]:\n",
    "                continue\n",
    "\n",
    "            for j in range(i+1,len(nums)):\n",
    "                if j>i+1 and nums[j]==nums[j-1]:\n",
    "                    continue\n",
    "\n",
    "                l_point = j+1; r_point = len(nums)-1\n",
    "                while l_point < r_point:\n",
    "                    sum = nums[i]+nums[j]+nums[l_point]+nums[r_point]\n",
    "                    if sum==target:\n",
    "                        ret.append([nums[i],nums[j],nums[l_point],nums[r_point]])\n",
    "                        while l_point<r_point and nums[l_point]==nums[l_point+1]:\n",
    "                            l_point+=1\n",
    "                        while l_point<r_point and nums[r_point]==nums[r_point-1]:\n",
    "                            r_point-=1\n",
    "                        l_point+=1\n",
    "                        r_point-=1\n",
    "                    elif sum>target:\n",
    "                        r_point-=1\n",
    "                    else:\n",
    "                        l_point+=1\n",
    "        return ret\n"
   ]
  },
  {
   "cell_type": "code",
   "execution_count": 50,
   "metadata": {},
   "outputs": [
    {
     "data": {
      "text/plain": [
       "[]"
      ]
     },
     "execution_count": 50,
     "metadata": {},
     "output_type": "execute_result"
    }
   ],
   "source": [
    "ss = Solution()\n",
    "ss.fourSum([2,2,22],8)"
   ]
  },
  {
   "attachments": {},
   "cell_type": "markdown",
   "metadata": {},
   "source": [
    "### 19. 删除链表的倒数第 N 个结点\n",
    "给你一个链表，删除链表的倒数第 n 个结点，并且返回链表的头结点。\n"
   ]
  },
  {
   "cell_type": "code",
   "execution_count": 55,
   "metadata": {},
   "outputs": [],
   "source": [
    "# Definition for singly-linked list.\n",
    "class ListNode:\n",
    "    def __init__(self, val=0, next=None):\n",
    "        self.val = val\n",
    "        self.next = next\n",
    "\n",
    "class Solution:\n",
    "    def removeNthFromEnd(self, head: ListNode, n: int) -> ListNode:\n",
    "        total_nums = 0\n",
    "\n",
    "        p=head\n",
    "        while p is not None:\n",
    "            total_nums+=1\n",
    "            p=p.next\n",
    "        nThNode= total_nums - n \n",
    "\n",
    "        if nThNode == 0:\n",
    "            return head.next\n",
    "        \n",
    "        idx = 0\n",
    "        p=head\n",
    "        while p is not None:\n",
    "            idx+=1\n",
    "            if nThNode == idx:\n",
    "                break\n",
    "            p=p.next\n",
    "        del_node = p.next\n",
    "        if del_node.next is None:\n",
    "            p.next =None\n",
    "        else:\n",
    "            p.next = del_node.next\n",
    "        \n",
    "        return head"
   ]
  },
  {
   "cell_type": "code",
   "execution_count": 57,
   "metadata": {},
   "outputs": [
    {
     "data": {
      "text/plain": [
       "<__main__.ListNode at 0x7f2e1661a700>"
      ]
     },
     "execution_count": 57,
     "metadata": {},
     "output_type": "execute_result"
    }
   ],
   "source": [
    "ss = Solution()\n",
    "head = ListNode(1)\n",
    "head.next = ListNode(2)\n",
    "ss.removeNthFromEnd(head,1)"
   ]
  },
  {
   "attachments": {},
   "cell_type": "markdown",
   "metadata": {},
   "source": [
    "### 20. 有效的括号\n",
    "给定一个只包括 '('，')'，'{'，'}'，'['，']' 的字符串 s ，判断字符串是否有效。\n",
    "\n",
    "有效字符串需满足：\n",
    "\n",
    "左括号必须用相同类型的右括号闭合。\n",
    "左括号必须以正确的顺序闭合。\n",
    "每个右括号都有一个对应的相同类型的左括号。\n"
   ]
  },
  {
   "cell_type": "code",
   "execution_count": 64,
   "metadata": {},
   "outputs": [],
   "source": [
    "class Solution:\n",
    "    def isValid(self, s: str) -> bool:\n",
    "        sym_stack = []\n",
    "        for s_elm in s:\n",
    "            if s_elm =='(' or s_elm == '{' or s_elm == '[':\n",
    "                sym_stack.append(s_elm)\n",
    "            elif s_elm == ')':\n",
    "                if len(sym_stack)==0 or sym_stack.pop()!='(':\n",
    "                    return False\n",
    "            elif s_elm == '}':\n",
    "                if len(sym_stack)==0 or sym_stack.pop()!='{':\n",
    "                    return False\n",
    "            elif s_elm == ']':\n",
    "               if len(sym_stack)==0 or sym_stack.pop()!='[':\n",
    "                    return False\n",
    "        \n",
    "        if len(sym_stack)!=0:\n",
    "            return False\n",
    "        return True"
   ]
  },
  {
   "cell_type": "code",
   "execution_count": 68,
   "metadata": {},
   "outputs": [
    {
     "data": {
      "text/plain": [
       "False"
      ]
     },
     "execution_count": 68,
     "metadata": {},
     "output_type": "execute_result"
    }
   ],
   "source": [
    "ss = Solution()\n",
    "ss.isValid(r'(]')"
   ]
  },
  {
   "cell_type": "markdown",
   "metadata": {},
   "source": []
  }
 ],
 "metadata": {
  "kernelspec": {
   "display_name": "Python 3.9.13 64-bit",
   "language": "python",
   "name": "python3"
  },
  "language_info": {
   "codemirror_mode": {
    "name": "ipython",
    "version": 3
   },
   "file_extension": ".py",
   "mimetype": "text/x-python",
   "name": "python",
   "nbconvert_exporter": "python",
   "pygments_lexer": "ipython3",
   "version": "3.9.13 (main, Aug 25 2022, 23:26:10) \n[GCC 11.2.0]"
  },
  "orig_nbformat": 4,
  "vscode": {
   "interpreter": {
    "hash": "be59c0aa2c1e192ef7afd22392aaf33d8b2449179640b24bdb1e1e8b645b56b6"
   }
  }
 },
 "nbformat": 4,
 "nbformat_minor": 2
}
