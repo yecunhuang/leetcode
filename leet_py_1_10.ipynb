{
 "cells": [
  {
   "cell_type": "markdown",
   "metadata": {},
   "source": [
    "### Two Sums"
   ]
  },
  {
   "cell_type": "code",
   "execution_count": 3,
   "metadata": {},
   "outputs": [
    {
     "name": "stdout",
     "output_type": "stream",
     "text": [
      "[1, 2]\n",
      "[1, 2]\n",
      "[0, 1]\n"
     ]
    }
   ],
   "source": [
    "# 给定一个整数数组 nums 和一个整数目标值 target，请你在该数组中找出 和为目标值 target  的那 两个 整数，并返回它们的数组下标。\n",
    "# 你可以假设每种输入只会对应一个答案。但是，数组中同一个元素在答案里不能重复出现。\n",
    "# 你可以按任意顺序返回答案。\n",
    "\n",
    "\n",
    "class Solution:\n",
    "    def twoSum(self, nums: list[int], target: int) -> list[int]:\n",
    "        mp = {}\n",
    "        for idx,num in enumerate(nums):\n",
    "            # idx_list = mp.get(num,[])\n",
    "            # idx_list.append(idx)\n",
    "            # mp[num] = idx_list\n",
    "            mp.setdefault(num,[]).append(idx)\n",
    "\n",
    "        for num in nums:\n",
    "            if num == target-num and len(mp[num])==2:\n",
    "                return mp[num]\n",
    "            if num !=target-num and mp.get(target-num):\n",
    "                return [mp[num][0],mp[target-num][0]]\n",
    "\n",
    "ss = Solution()\n",
    "ret =ss.twoSum(nums = [2,5,5,11], target = 10)\n",
    "print(ret)\n",
    "\n",
    "ret =ss.twoSum(nums = [3,2,4], target = 6)\n",
    "print(ret)\n",
    "\n",
    "ret =ss.twoSum(nums = [3,3], target = 6)\n",
    "print(ret)\n"
   ]
  },
  {
   "cell_type": "markdown",
   "metadata": {},
   "source": [
    "### 2. 两数相加"
   ]
  },
  {
   "cell_type": "code",
   "execution_count": 1,
   "metadata": {},
   "outputs": [
    {
     "name": "stdout",
     "output_type": "stream",
     "text": [
      "7 \n",
      "0 "
     ]
    }
   ],
   "source": [
    "# Definition for singly-linked list.\n",
    "\n",
    "class ListNode:\n",
    "    def __init__(self, val=0, next=None):\n",
    "        self.val = val\n",
    "        self.next = next\n",
    "\n",
    "class Solution(object):\n",
    "    def addTwoNumbers(self, l1:ListNode, l2:ListNode):\n",
    "        \"\"\"\n",
    "        :type l1: ListNode\n",
    "        :type l2: ListNode\n",
    "        :rtype: ListNode\n",
    "        \"\"\"\n",
    "        v1 = 0; v2 = 0\n",
    "\n",
    "        k=1\n",
    "        while(l1):\n",
    "            v1 = v1 + l1.val*k\n",
    "            l1 = l1.next\n",
    "            k*=10\n",
    "        \n",
    "        k=1\n",
    "        while(l2):\n",
    "            v2 = v2 + l2.val*k\n",
    "            l2 = l2.next\n",
    "            k*=10\n",
    "\n",
    "        v_sum = v1+v2\n",
    "        v_sum_list = [int(_) for _ in reversed(str(v_sum))]\n",
    "\n",
    "        p = ListNode(v_sum_list[0])\n",
    "        ret = p\n",
    "        for v in v_sum_list[1:]:\n",
    "            p.next = ListNode(v)\n",
    "            p = p.next\n",
    "\n",
    "        return ret \n",
    "\n",
    "    def addTwoNumbers2(self, l1:ListNode, l2:ListNode):\n",
    "        \"\"\"\n",
    "        :type l1: ListNode\n",
    "        :type l2: ListNode\n",
    "        :rtype: ListNode\n",
    "        \"\"\"\n",
    "        carry = 0\n",
    "        p = ListNode()\n",
    "        ret = p\n",
    "        while(l1 and l2):\n",
    "            sum = l1.val + l2.val + carry\n",
    "            bit_v = sum % 10\n",
    "            carry = sum // 10\n",
    "\n",
    "            p.val = bit_v\n",
    "\n",
    "            if l1.next or l2.next or carry!=0:\n",
    "                p.next = ListNode()\n",
    "            p=p.next\n",
    "\n",
    "            l1 = l1.next\n",
    "            l2 = l2.next\n",
    "\n",
    "        while(l1):\n",
    "            sum = l1.val+carry\n",
    "            bit_v = sum % 10\n",
    "            carry = sum // 10\n",
    "\n",
    "            p.val = bit_v\n",
    "\n",
    "            if l1.next and carry != 0:\n",
    "                p.next = ListNode()\n",
    "            p=p.next\n",
    "            l1 = l1.next\n",
    "\n",
    "        while(l2):\n",
    "            sum = l2.val+carry\n",
    "            bit_v = sum % 10\n",
    "            carry = sum // 10\n",
    "\n",
    "            p.val = bit_v\n",
    "\n",
    "            if l2.next and carry !=0 :\n",
    "                p.next = ListNode()\n",
    "\n",
    "            p=p.next\n",
    "            l2 = l2.next\n",
    "        \n",
    "        if carry!=0:\n",
    "            p.val = carry\n",
    "        \n",
    "        return ret\n",
    "    \n",
    "    def addTwoNumbers3(self, l1:ListNode, l2:ListNode):\n",
    "        \"\"\"\n",
    "        :type l1: ListNode\n",
    "        :type l2: ListNode\n",
    "        :rtype: ListNode\n",
    "        \"\"\"\n",
    "        ret = None\n",
    "        p = None\n",
    "        carry =0\n",
    "        while l1 and l2:\n",
    "            sum = l1.val + l2.val + carry\n",
    "            bit_val = sum%10\n",
    "            carry = sum//10\n",
    "\n",
    "            p = ListNode(bit_val) ## Wrong: Now p points to new object!!!\n",
    "            if ret is None:\n",
    "                ret = p\n",
    "            p = p.next\n",
    "\n",
    "            l1 = l1.next\n",
    "            l2 = l2.next\n",
    "\n",
    "        while l1:\n",
    "            sum = l1.val +carry\n",
    "            bit_val = sum%10\n",
    "            carry = sum//10\n",
    "\n",
    "            p = ListNode(bit_val)\n",
    "            p = p.next\n",
    "\n",
    "            l1 = l1.next\n",
    "        \n",
    "        while l2:\n",
    "            sum = l2.val +carry\n",
    "            bit_val = sum%10\n",
    "            carry = sum//10\n",
    "\n",
    "            p = ListNode(bit_val)\n",
    "            p = p.next\n",
    "\n",
    "            l2 = l2.next\n",
    "\n",
    "        if carry != 0:\n",
    "            p = ListNode(carry)\n",
    "\n",
    "        return ret \n",
    "        \n",
    "\n",
    "ss = Solution()\n",
    "\n",
    "# example 1\n",
    "l1 = ListNode(2)\n",
    "l1.next=ListNode(4)\n",
    "l1.next.next=ListNode(3)\n",
    "l2 = ListNode(5)\n",
    "l2.next=ListNode(6)\n",
    "l2.next.next=ListNode(4)\n",
    "ret = ss.addTwoNumbers3(l1,l2)\n",
    "while(ret):\n",
    "    print(ret.val,end=' ')\n",
    "    ret=ret.next\n",
    "print()\n",
    "\n",
    "l1 = ListNode(0)\n",
    "l2 = ListNode(0)\n",
    "ret = ss.addTwoNumbers3(l1,l2)\n",
    "while(ret):\n",
    "    print(ret.val,end=' ')\n",
    "    ret=ret.next\n"
   ]
  },
  {
   "cell_type": "markdown",
   "metadata": {},
   "source": [
    "### 3. 无重复字符的最长子串\n",
    "给定一个字符串 s ，请你找出其中不含有重复字符的 最长子串 的长度。\n",
    "\n"
   ]
  },
  {
   "cell_type": "code",
   "execution_count": 97,
   "metadata": {},
   "outputs": [
    {
     "name": "stdout",
     "output_type": "stream",
     "text": [
      "1\n"
     ]
    }
   ],
   "source": [
    "class Solution(object):\n",
    "    def lengthOfLongestSubstring(self, s:str):\n",
    "        \"\"\"\n",
    "        :type s: str\n",
    "        :rtype: int\n",
    "        \"\"\"\n",
    "        if len(s)==0:\n",
    "            return 0\n",
    "        dp = []\n",
    "        for idx, s_elm in enumerate(s):\n",
    "            if idx ==0:\n",
    "                dp.append(1)\n",
    "                continue\n",
    "\n",
    "            j = idx - 1\n",
    "            while j>= idx - dp[idx-1] and s[j]!=s_elm:\n",
    "                j= j-1\n",
    "                \n",
    "            dp.append(idx-j)\n",
    "        return max(dp)\n",
    "\n",
    "ss = Solution()\n",
    "\n",
    "ret = ss.lengthOfLongestSubstring('bbbbb')\n",
    "print(ret)\n"
   ]
  },
  {
   "cell_type": "markdown",
   "metadata": {},
   "source": [
    "### 赋值、浅拷贝、深拷贝"
   ]
  },
  {
   "cell_type": "code",
   "execution_count": 4,
   "metadata": {},
   "outputs": [],
   "source": [
    "import copy\n",
    "\n",
    "a = dict(one=1,two=2,three=[3])\n",
    "b=a\n",
    "c=a.copy()\n",
    "d= copy.deepcopy(a)"
   ]
  },
  {
   "cell_type": "code",
   "execution_count": 8,
   "metadata": {},
   "outputs": [
    {
     "name": "stdout",
     "output_type": "stream",
     "text": [
      "{'one': 3, 'two': 2, 'three': [3]}\n",
      "{'one': 3, 'two': 2, 'three': [3]}\n",
      "{'one': 3, 'two': 2, 'three': [3]}\n"
     ]
    }
   ],
   "source": [
    "b['one']=3\n",
    "print(a)\n",
    "c['one']=4\n",
    "print(a)\n",
    "d['three'].append(5)\n",
    "print(a)"
   ]
  },
  {
   "cell_type": "markdown",
   "metadata": {},
   "source": [
    "### 4. 寻找两个正序数组的中位数"
   ]
  },
  {
   "cell_type": "code",
   "execution_count": 4,
   "metadata": {},
   "outputs": [
    {
     "name": "stdout",
     "output_type": "stream",
     "text": [
      "2\n"
     ]
    }
   ],
   "source": [
    "class Solution(object):\n",
    "    def findMedianSortedArrays(self, nums1, nums2):\n",
    "        \"\"\"\n",
    "        :type nums1: List[int]\n",
    "        :type nums2: List[int]\n",
    "        :rtype: float\n",
    "        \"\"\"\n",
    "        i1=0; i2=0; i=0 \n",
    "        sum_len=len(nums1)+len(nums2)\n",
    "        ret1=0;ret2=0\n",
    "\n",
    "        if sum_len==0:\n",
    "            return 0\n",
    "        \n",
    "        j= (sum_len)//2-1 if sum_len%2==0 else (sum_len)//2\n",
    "    \n",
    "        while i<=j and i1<len(nums1) and i2<len(nums2):\n",
    "            if nums1[i1]<=nums2[i2]:\n",
    "                ret1=nums1[i1]\n",
    "                i1+=1\n",
    "            else:\n",
    "                ret1=nums2[i2]\n",
    "                i2+=1\n",
    "            i+=1\n",
    "\n",
    "        while i<=j and i1<len(nums1):\n",
    "            ret1 = nums1[i1]\n",
    "            i1+=1\n",
    "            i+=1\n",
    "        while i<=j and i2<len(nums2):\n",
    "            ret1 = nums2[i2]\n",
    "            i2+=1\n",
    "            i+=1\n",
    "        \n",
    "        if sum_len%2 !=0:\n",
    "            return ret1\n",
    "\n",
    "        if i1>=len(nums1):\n",
    "            ret2 = nums2[i2]\n",
    "        elif i2>=len(nums2):\n",
    "            ret2 = nums1[i1]\n",
    "        else:\n",
    "            ret2 = nums1[i1] if nums1[i1]<=nums2[i2] else nums2[i2]\n",
    "\n",
    "        return (ret1+ret2)/2.0  #注意 Python 2 中需要指明2.0\n",
    "\n",
    "\n",
    "nums1 = [1,3]; nums2 = [2]\n",
    "ss = Solution()\n",
    "ret = ss.findMedianSortedArrays(nums1,nums2)\n",
    "print(ret)\n"
   ]
  },
  {
   "cell_type": "markdown",
   "metadata": {},
   "source": [
    "### 5. 最长回文子串\n",
    "\n",
    "注意点:\n",
    "- check_loop 里 j-=1 而不是 j+=1\n",
    "- 遍历s时 s[1:] 危险！！idx 不再和原来数组对应 \n",
    "- while 循环注意不要忘了 break\n",
    "- python list 不要直接用 list[idx]='xxx' 而要用append!!! "
   ]
  },
  {
   "cell_type": "code",
   "execution_count": 60,
   "metadata": {},
   "outputs": [],
   "source": [
    "class Solution:\n",
    "    def check_loop_str(self, s_in:str):\n",
    "        i=0;j=len(s_in)-1\n",
    "        while i<j:\n",
    "            if s_in[i]!=s_in[j]:\n",
    "                return False\n",
    "            i+=1\n",
    "            j-=1\n",
    "        return True\n",
    "\n",
    "    def longestPalindrome(self, s: str) -> str:\n",
    "        if len(s)<=1:\n",
    "            return s\n",
    "        dp = [1]\n",
    "        for idx, s_elem in enumerate(s):  ### s[1:] 危险！！idx 不再和原来数组对应 \n",
    "            if idx == 0:\n",
    "                continue\n",
    "\n",
    "            j= idx - dp[idx-1] -1\n",
    "            if  j>=0 and s[j]==s_elem:\n",
    "                dp.append(dp[idx-1]+2)\n",
    "                continue \n",
    "            j=idx-dp[idx-1]\n",
    "\n",
    "            while j<= idx:\n",
    "                if s[j]==s_elem and self.check_loop_str(s[j+1:idx]):\n",
    "                    dp.append(idx -j +1)\n",
    "                    break\n",
    "                j+=1\n",
    "                \n",
    "        max_v = max(dp)\n",
    "        max_idx = dp.index(max_v)\n",
    "\n",
    "        return s[max_idx-max_v+1:max_idx+1]\n",
    "\n",
    "      "
   ]
  },
  {
   "cell_type": "code",
   "execution_count": 61,
   "metadata": {},
   "outputs": [
    {
     "name": "stdout",
     "output_type": "stream",
     "text": [
      "aaaa\n"
     ]
    }
   ],
   "source": [
    "ss = Solution()\n",
    "ret = ss.longestPalindrome('aaaa')\n",
    "print(ret)"
   ]
  },
  {
   "cell_type": "markdown",
   "metadata": {},
   "source": [
    "### 6. Z 字形变换\n",
    "\n",
    "1. 注意边界条件 行数为1\n",
    "2. 字符换字面值不允许使用 +=， 而变量可以，但是会重新新建对象\n",
    "3. 注意列表里新建列表时要用 for in loop\n",
    "    b=[[]]*3 会造成内部列表引用\n",
    "   字符串不可变类型不用担心\n"
   ]
  },
  {
   "cell_type": "code",
   "execution_count": 87,
   "metadata": {},
   "outputs": [],
   "source": [
    "class Solution:\n",
    "    def convert(self, s: str, numRows: int) -> str:\n",
    "        if numRows==1:\n",
    "            return s\n",
    "\n",
    "        ret = ['']*numRows\n",
    "        for idx, s_elm in enumerate(s):\n",
    "            tmp_row = idx % (2*numRows-2)\n",
    "            if tmp_row <numRows:\n",
    "                ret[tmp_row]+= s_elm\n",
    "            else:\n",
    "                ret[2*numRows-2-tmp_row]+= s_elm\n",
    "\n",
    "        return ''.join(ret)"
   ]
  },
  {
   "cell_type": "code",
   "execution_count": 90,
   "metadata": {},
   "outputs": [
    {
     "data": {
      "text/plain": [
       "'AGHJKPGJJS'"
      ]
     },
     "execution_count": 90,
     "metadata": {},
     "output_type": "execute_result"
    }
   ],
   "source": [
    "ss = Solution()\n",
    "ss.convert('APGGHJJJKS',2)"
   ]
  },
  {
   "cell_type": "markdown",
   "metadata": {},
   "source": [
    "### 7. 整数反转\n",
    "\n",
    "这道题对于python来说不是很难，由于python 中整数类型理论上是不会溢出的，因此直接转换为字符串反转然后判断大小是否超出范围即可，注意区分正负号讨论\n"
   ]
  },
  {
   "cell_type": "code",
   "execution_count": 102,
   "metadata": {},
   "outputs": [],
   "source": [
    "class Solution:\n",
    "    def reverse(self, x: int) -> int:\n",
    "        sign = 1 if x>=0 else -1\n",
    "        rev_x_str = ''.join(reversed(str(x) if x>=0 else str(x)[1:]))\n",
    "        rev_x_val = int(rev_x_str)*sign\n",
    "\n",
    "        if rev_x_val>=-2**31 and rev_x_val <= 2**31-1:\n",
    "            return rev_x_val\n",
    "        return 0 "
   ]
  },
  {
   "cell_type": "code",
   "execution_count": 110,
   "metadata": {},
   "outputs": [
    {
     "name": "stdout",
     "output_type": "stream",
     "text": [
      "0\n"
     ]
    }
   ],
   "source": [
    "ss = Solution()\n",
    "ret = ss.reverse(0)\n",
    "print(ret)"
   ]
  },
  {
   "cell_type": "markdown",
   "metadata": {},
   "source": [
    "### 8. 字符串转换整数 (atoi)\n",
    "\n",
    "坦白说，用Python来完成这种问题有一种作弊的感觉，因为Python处理字符串比较灵活，而且不用考虑整数类形的溢出问题，只要按提示的步骤算法做就好"
   ]
  },
  {
   "cell_type": "code",
   "execution_count": 132,
   "metadata": {},
   "outputs": [],
   "source": [
    "class Solution:\n",
    "    def myAtoi(self, s: str) -> int:\n",
    "        s = s.strip()\n",
    "        s_num_str =''\n",
    "\n",
    "        if len(s)>0 and s[0]=='-':\n",
    "            s_num_str+='-'\n",
    "            s = s[1:]\n",
    "        elif len(s)>0 and s[0]=='+':\n",
    "            s = s[1:]\n",
    "\n",
    "        for s_elem in s:\n",
    "            if s_elem.isdigit():\n",
    "                s_num_str+=s_elem\n",
    "            else:\n",
    "                break\n",
    "\n",
    "        if s_num_str =='-' or s_num_str=='':\n",
    "            return 0\n",
    "        s_num = int(s_num_str)\n",
    "\n",
    "        if s_num < -2**31:\n",
    "            s_num = -2**31\n",
    "        elif s_num > 2**31-1:\n",
    "            s_num = 2**31-1\n",
    "        return s_num"
   ]
  },
  {
   "cell_type": "code",
   "execution_count": 137,
   "metadata": {},
   "outputs": [
    {
     "name": "stdout",
     "output_type": "stream",
     "text": [
      "43\n"
     ]
    }
   ],
   "source": [
    "ss = Solution()\n",
    "ret = ss.myAtoi('  43.2')\n",
    "print(ret)"
   ]
  },
  {
   "cell_type": "markdown",
   "metadata": {},
   "source": [
    "### 9. 回文数"
   ]
  },
  {
   "cell_type": "code",
   "execution_count": 159,
   "metadata": {},
   "outputs": [],
   "source": [
    "class Solution:\n",
    "    def isPalindrome(self, x: int) -> bool:\n",
    "        if x<0:\n",
    "            return False\n",
    "        x_str = str(x)\n",
    "        i=0; j= len(x_str)-1\n",
    "        while i<j and x_str[i]==x_str[j]:\n",
    "            i+=1\n",
    "            j-=1\n",
    "        if x_str[i]==x_str[j]:\n",
    "            return True\n",
    "        return False\n",
    "\n",
    "    def isPalindrome2(self, x: int) -> bool:\n",
    "        if x<0:\n",
    "            return False\n",
    "        \n",
    "        bit_nums = []\n",
    "        while x>0:\n",
    "            # print(x)\n",
    "            bit_nums.append(x%10)\n",
    "            x = x//10\n",
    "        #print(bit_nums)\n",
    "        \n",
    "        i=0;j=len(bit_nums)-1\n",
    "        while i<j:\n",
    "            if bit_nums[i]!=bit_nums[j]:\n",
    "                return False\n",
    "            i+=1 #不要忘记加上这个\n",
    "            j-=1 \n",
    "        return True\n"
   ]
  },
  {
   "cell_type": "code",
   "execution_count": 163,
   "metadata": {},
   "outputs": [
    {
     "name": "stdout",
     "output_type": "stream",
     "text": [
      "[1, 1, 0, 1]\n",
      "False\n"
     ]
    }
   ],
   "source": [
    "ss = Solution()\n",
    "ret = ss.isPalindrome2(1011)\n",
    "print(ret)"
   ]
  },
  {
   "cell_type": "markdown",
   "metadata": {},
   "source": [
    "### 10. 正则表达式匹配\n",
    "使用动态规划来解决问题，相当有技巧的一题"
   ]
  },
  {
   "cell_type": "code",
   "execution_count": 220,
   "metadata": {},
   "outputs": [],
   "source": [
    "class Solution:\n",
    "\n",
    "    def isMatch(self, s: str, p: str) -> bool:\n",
    "\n",
    "        def isMathChar(s_idx:int, p_idx:int)->bool:\n",
    "            return s_idx>=0 and (p[p_idx]=='.' or s[s_idx]==p[p_idx])\n",
    "\n",
    "        s_len = len(s)\n",
    "        p_len = len(p)\n",
    "\n",
    "        ret = [[False]*(p_len+1) for _ in range(s_len+1)]\n",
    "        ret[0][0]=True\n",
    "\n",
    "        for i in range(s_len+1):\n",
    "            for j in range(1,p_len+1):\n",
    "                if p[j-1]!='*':\n",
    "                    if isMathChar(i-1,j-1):\n",
    "                        ret[i][j] = ret[i-1][j-1] \n",
    "                else:\n",
    "                    ret[i][j] |= ret[i][j-2]\n",
    "                    if isMathChar(i-1,j-2):\n",
    "                        ret[i][j] |= ret[i-1][j]\n",
    "        # print(ret)\n",
    "        return ret[s_len][p_len]          "
   ]
  },
  {
   "cell_type": "code",
   "execution_count": 221,
   "metadata": {},
   "outputs": [
    {
     "data": {
      "text/plain": [
       "False"
      ]
     },
     "execution_count": 221,
     "metadata": {},
     "output_type": "execute_result"
    }
   ],
   "source": [
    "ss = Solution()\n",
    "ss.isMatch(\"mississippi\",'mis*is*p*.')"
   ]
  },
  {
   "cell_type": "markdown",
   "metadata": {},
   "source": []
  }
 ],
 "metadata": {
  "kernelspec": {
   "display_name": "Python 3.9.13 64-bit",
   "language": "python",
   "name": "python3"
  },
  "language_info": {
   "codemirror_mode": {
    "name": "ipython",
    "version": 3
   },
   "file_extension": ".py",
   "mimetype": "text/x-python",
   "name": "python",
   "nbconvert_exporter": "python",
   "pygments_lexer": "ipython3",
   "version": "3.9.13 (main, Aug 25 2022, 23:26:10) \n[GCC 11.2.0]"
  },
  "orig_nbformat": 4,
  "vscode": {
   "interpreter": {
    "hash": "be59c0aa2c1e192ef7afd22392aaf33d8b2449179640b24bdb1e1e8b645b56b6"
   }
  }
 },
 "nbformat": 4,
 "nbformat_minor": 2
}
