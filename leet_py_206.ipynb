{
 "cells": [
  {
   "attachments": {},
   "cell_type": "markdown",
   "metadata": {},
   "source": [
    "### 206. 反转链表"
   ]
  },
  {
   "cell_type": "code",
   "execution_count": 1,
   "metadata": {},
   "outputs": [],
   "source": [
    "# Definition for singly-linked list.\n",
    "class ListNode:\n",
    "    def __init__(self, val=0, next=None):\n",
    "        self.val = val\n",
    "        self.next = next"
   ]
  },
  {
   "cell_type": "code",
   "execution_count": 7,
   "metadata": {},
   "outputs": [],
   "source": [
    "class Solution:\n",
    "    def reverseList(self, head: ListNode) -> ListNode:\n",
    "        prev = None\n",
    "        curr = head\n",
    "        \n",
    "        while curr is not None:\n",
    "            next = curr.next\n",
    "            curr.next = prev\n",
    "            prev = curr\n",
    "            curr = next\n",
    "        \n",
    "        return prev"
   ]
  },
  {
   "cell_type": "code",
   "execution_count": 8,
   "metadata": {},
   "outputs": [
    {
     "name": "stdout",
     "output_type": "stream",
     "text": [
      "3 2 1 "
     ]
    }
   ],
   "source": [
    "ss = Solution()\n",
    "head = ListNode(1)\n",
    "head.next = ListNode(2)\n",
    "head.next.next = ListNode(3)\n",
    "\n",
    "ret = ss.reverseList(head)\n",
    "\n",
    "p = ret\n",
    "while p is not None:\n",
    "    print(p.val,end=' ')\n",
    "    p=p.next"
   ]
  },
  {
   "attachments": {},
   "cell_type": "markdown",
   "metadata": {},
   "source": [
    "### 153. 寻找旋转排序数组中的最小值\n",
    "已知一个长度为 n 的数组，预先按照升序排列，经由 1 到 n 次 旋转 后，得到输入数组。例如，原数组 nums = [0,1,2,4,5,6,7] 在变化后可能得到：\n",
    "若旋转 4 次，则可以得到 [4,5,6,7,0,1,2]\n",
    "若旋转 7 次，则可以得到 [0,1,2,4,5,6,7]\n",
    "注意，数组 [a[0], a[1], a[2], ..., a[n-1]] 旋转一次 的结果为数组 [a[n-1], a[0], a[1], a[2], ..., a[n-2]] 。\n",
    "\n",
    "给你一个元素值 互不相同 的数组 nums ，它原来是一个升序排列的数组，并按上述情形进行了多次旋转。请你找出并返回数组中的 最小元素 。\n",
    "\n",
    "你必须设计一个时间复杂度为 O(log n) 的算法解决此问题。"
   ]
  },
  {
   "cell_type": "code",
   "execution_count": 11,
   "metadata": {},
   "outputs": [],
   "source": [
    "class Solution:\n",
    "    def findMin(self, nums: list[int]) -> int:\n",
    "        if nums[0]<=nums[-1]:\n",
    "            return nums[0]\n",
    "\n",
    "        i=0; j=len(nums)-1\n",
    "        while i<=j:\n",
    "            mid = (i+j)//2\n",
    "\n",
    "            if nums[mid] >= nums[0]:\n",
    "                i = mid+1\n",
    "            elif nums[mid] > nums[mid-1]:\n",
    "                j = mid-1\n",
    "            else:\n",
    "                return nums[mid]"
   ]
  },
  {
   "cell_type": "code",
   "execution_count": 12,
   "metadata": {},
   "outputs": [
    {
     "data": {
      "text/plain": [
       "1"
      ]
     },
     "execution_count": 12,
     "metadata": {},
     "output_type": "execute_result"
    }
   ],
   "source": [
    "ss = Solution()\n",
    "ss.findMin([2,1])"
   ]
  },
  {
   "attachments": {},
   "cell_type": "markdown",
   "metadata": {},
   "source": [
    "### 415. 字符串相加\n",
    "给定两个字符串形式的非负整数 num1 和num2 ，计算它们的和并同样以字符串形式返回。\n",
    "\n",
    "你不能使用任何內建的用于处理大整数的库（比如 BigInteger）， 也不能直接将输入的字符串转换为整数形式。"
   ]
  },
  {
   "cell_type": "code",
   "execution_count": 14,
   "metadata": {},
   "outputs": [],
   "source": [
    "class Solution:\n",
    "    def addStrings(self, num1: str, num2: str) -> str:\n",
    "        carry =0\n",
    "        sum =''\n",
    "\n",
    "        i=len(num1)-1; j=len(num2)-1\n",
    "        while i>=0 and j>=0:\n",
    "            val = int(num1[i])+int(num2[j]) + carry\n",
    "            sum = str(val%10)+sum\n",
    "            carry = val//10\n",
    "            i-=1\n",
    "            j-=1\n",
    "\n",
    "        while i>=0:\n",
    "            val = int(num1[i]) + carry\n",
    "            sum = str(val%10)+sum\n",
    "            carry = val//10\n",
    "            i-=1\n",
    "        \n",
    "        while j>=0:\n",
    "            val = int(num2[j]) + carry\n",
    "            sum = str(val%10)+sum\n",
    "            carry = val//10\n",
    "            j-=1\n",
    "\n",
    "        if carry>0:\n",
    "            sum = str(carry)+sum\n",
    "\n",
    "        return sum"
   ]
  },
  {
   "cell_type": "code",
   "execution_count": 20,
   "metadata": {},
   "outputs": [
    {
     "data": {
      "text/plain": [
       "'0'"
      ]
     },
     "execution_count": 20,
     "metadata": {},
     "output_type": "execute_result"
    }
   ],
   "source": [
    "ss = Solution()\n",
    "ss.addStrings('0','0')\n"
   ]
  }
 ],
 "metadata": {
  "kernelspec": {
   "display_name": "Python 3",
   "language": "python",
   "name": "python3"
  },
  "language_info": {
   "codemirror_mode": {
    "name": "ipython",
    "version": 3
   },
   "file_extension": ".py",
   "mimetype": "text/x-python",
   "name": "python",
   "nbconvert_exporter": "python",
   "pygments_lexer": "ipython3",
   "version": "3.9.13 (main, Aug 25 2022, 23:26:10) \n[GCC 11.2.0]"
  },
  "orig_nbformat": 4,
  "vscode": {
   "interpreter": {
    "hash": "be59c0aa2c1e192ef7afd22392aaf33d8b2449179640b24bdb1e1e8b645b56b6"
   }
  }
 },
 "nbformat": 4,
 "nbformat_minor": 2
}
