{
 "cells": [
  {
   "attachments": {},
   "cell_type": "markdown",
   "metadata": {},
   "source": [
    "### 41. 缺失的第一个正数\n",
    "给你一个未排序的整数数组 nums ，请你找出其中没有出现的最小的正整数。\n",
    "\n",
    "请你实现时间复杂度为 O(n) 并且只使用常数级别额外空间的解决方案。"
   ]
  },
  {
   "cell_type": "code",
   "execution_count": 22,
   "metadata": {},
   "outputs": [],
   "source": [
    "class Solution:\n",
    "    def firstMissingPositive(self, nums: list[int]) -> int:\n",
    "        i = 0\n",
    "\n",
    "        while i<len(nums):\n",
    "            while nums[i]-1 >=0 and nums[i]-1 <len(nums) and nums[nums[i]-1] != nums[i]:\n",
    "                # 典型错误 赋值有先后顺序\n",
    "                # nums[i], nums[nums[i]-1] = nums[nums[i]-1], nums[i]\n",
    "                nums[nums[i]-1],nums[i] = nums[i],nums[nums[i]-1] \n",
    "            \n",
    "            i+=1\n",
    "\n",
    "        for idx in range(len(nums)):\n",
    "            if nums[idx]-1 !=idx:\n",
    "                return idx+1\n",
    "        \n",
    "        return len(nums)+1"
   ]
  },
  {
   "cell_type": "code",
   "execution_count": 23,
   "metadata": {},
   "outputs": [
    {
     "data": {
      "text/plain": [
       "2"
      ]
     },
     "execution_count": 23,
     "metadata": {},
     "output_type": "execute_result"
    }
   ],
   "source": [
    "ss = Solution()\n",
    "ss.firstMissingPositive([1,1])"
   ]
  },
  {
   "attachments": {},
   "cell_type": "markdown",
   "metadata": {},
   "source": [
    "### 42. 接雨水\n",
    "给定 n 个非负整数表示每个宽度为 1 的柱子的高度图，计算按此排列的柱子，下雨之后能接多少雨水。"
   ]
  },
  {
   "cell_type": "code",
   "execution_count": 11,
   "metadata": {},
   "outputs": [],
   "source": [
    "class Solution:\n",
    "    def trap(self, height: list[int]) -> int:\n",
    "        ans = 0\n",
    "        rain_stack = []\n",
    "\n",
    "        for i in range(len(height)):\n",
    "            while len(rain_stack)!=0 and height[rain_stack[-1]]<height[i]:\n",
    "                idx = rain_stack.pop()\n",
    "                if len(rain_stack)!=0:\n",
    "                    ans += (min(height[i],height[rain_stack[-1]]) - height[idx])*(i-rain_stack[-1]-1)\n",
    "            \n",
    "            rain_stack.append(i)\n",
    "        return ans\n",
    "\n",
    "    def trap2(self, height: list[int]) -> int:\n",
    "        max_height = max(height)\n",
    "\n",
    "        ans =0\n",
    "        for i in range(1, max_height+1):\n",
    "            is_update = False\n",
    "            tmp =0 \n",
    "\n",
    "            for j in range(len(height)):\n",
    "                if height[j]>=i:\n",
    "                    ans += tmp\n",
    "                    tmp =0\n",
    "                    is_update = True\n",
    "                elif height[j] < i and is_update:\n",
    "                    tmp += 1\n",
    "        return ans"
   ]
  },
  {
   "cell_type": "code",
   "execution_count": 12,
   "metadata": {},
   "outputs": [
    {
     "data": {
      "text/plain": [
       "6"
      ]
     },
     "execution_count": 12,
     "metadata": {},
     "output_type": "execute_result"
    }
   ],
   "source": [
    "ss = Solution()\n",
    "ss.trap([0,1,0,2,1,0,1,3,2,1,2,1])"
   ]
  },
  {
   "attachments": {},
   "cell_type": "markdown",
   "metadata": {},
   "source": [
    "### 43. 字符串相乘\n",
    "给定两个以字符串形式表示的非负整数 num1 和 num2，返回 num1 和 num2 的乘积，它们的乘积也表示为字符串形式。\n",
    "\n",
    "注意：不能使用任何内置的 BigInteger 库或直接将输入转换为整数。"
   ]
  },
  {
   "cell_type": "code",
   "execution_count": 5,
   "metadata": {},
   "outputs": [],
   "source": [
    "class Solution:\n",
    "    def multiply(self, num1: str, num2: str) -> str:\n",
    "        sum = 0\n",
    "        carry2 = 1\n",
    "\n",
    "        def sub_mul(num1: str, num2: int):\n",
    "            carry = 0\n",
    "            sum = 0\n",
    "            ten_bit = 0\n",
    "            for j in range(len(num1)-1, -1, -1):\n",
    "                item = int(num1[j]) *num2 + carry\n",
    "                sum = sum + (item%10)*(10**ten_bit)\n",
    "                ten_bit+=1\n",
    "                carry = item//10\n",
    "\n",
    "            if carry > 0:\n",
    "                sum += carry * (10**ten_bit)\n",
    "\n",
    "            return sum \n",
    "\n",
    "        for i in range(len(num2)-1, -1, -1):\n",
    "            sum += sub_mul(num1,int(num2[i])) * carry2\n",
    "            carry2 *= 10\n",
    "        return str(sum)\n"
   ]
  },
  {
   "cell_type": "code",
   "execution_count": 10,
   "metadata": {},
   "outputs": [
    {
     "name": "stdout",
     "output_type": "stream",
     "text": [
      "56088\n"
     ]
    }
   ],
   "source": [
    "ss = Solution()\n",
    "ret = ss.multiply(\"123\",\"456\")\n",
    "print(ret)"
   ]
  },
  {
   "attachments": {},
   "cell_type": "markdown",
   "metadata": {},
   "source": [
    "### 45. Jump Game II\n",
    "You are given a 0-indexed array of integers nums of length n. You are initially positioned at nums[0].\n",
    "\n",
    "Each element nums[i] represents the maximum length of a forward jump from index i. In other words, if you are at nums[i], you can jump to any nums[i + j] where:\n",
    "\n",
    "0 <= j <= nums[i] and\n",
    "i + j < n\n",
    "Return the minimum number of jumps to reach nums[n - 1]. The test cases are generated such that you can reach nums[n - 1].\n",
    "\n",
    " \n",
    "\n",
    "Example 1:\n",
    "\n",
    "Input: nums = [2,3,1,1,4]\n",
    "Output: 2\n",
    "Explanation: The minimum number of jumps to reach the last index is 2. Jump 1 step from index 0 to 1, then 3 steps to the last index.\n",
    "Example 2:\n",
    "\n",
    "Input: nums = [2,3,0,1,4]\n",
    "Output: 2"
   ]
  },
  {
   "cell_type": "code",
   "execution_count": 16,
   "metadata": {},
   "outputs": [],
   "source": [
    "class Solution:\n",
    "    def jump(self, nums: list[int]) -> int:\n",
    "        min_step = float('inf')\n",
    "\n",
    "        def jump_func(index, step):\n",
    "            nonlocal min_step\n",
    "            if step > min_step or index >= len(nums):\n",
    "                return \n",
    "            \n",
    "            if index == len(nums)-1 and step <min_step:\n",
    "                min_step = step\n",
    "            \n",
    "            for i in range(nums[index]):\n",
    "                jump_func(index+i+1,step+1)\n",
    "\n",
    "        jump_func(0,0)\n",
    "        return min_step"
   ]
  },
  {
   "cell_type": "code",
   "execution_count": 19,
   "metadata": {},
   "outputs": [],
   "source": [
    "class Solution:\n",
    "    def jump(self, nums: list[int]) -> int:\n",
    "        max_pos = 0\n",
    "        step = 0\n",
    "        end =0\n",
    "\n",
    "        n = len(nums)\n",
    "\n",
    "        for i in range(n-1):\n",
    "            if max_pos >= i:\n",
    "                max_pos = max(max_pos, i + nums[i])\n",
    "\n",
    "                if i == end:\n",
    "                    end = max_pos\n",
    "                    step+=1\n",
    "        \n",
    "        return step"
   ]
  },
  {
   "cell_type": "code",
   "execution_count": 20,
   "metadata": {},
   "outputs": [
    {
     "data": {
      "text/plain": [
       "1"
      ]
     },
     "execution_count": 20,
     "metadata": {},
     "output_type": "execute_result"
    }
   ],
   "source": [
    "ss = Solution()\n",
    "ss.jump(nums=[2,1])"
   ]
  },
  {
   "attachments": {},
   "cell_type": "markdown",
   "metadata": {},
   "source": [
    "### 46. Permutations\n",
    "Given an array nums of distinct integers, return all the possible permutations. You can return the answer in any order.\n",
    "Example 1:\n",
    "\n",
    "Input: nums = [1,2,3]\n",
    "Output: [[1,2,3],[1,3,2],[2,1,3],[2,3,1],[3,1,2],[3,2,1]]\n",
    "Example 2:\n",
    "\n",
    "Input: nums = [0,1]\n",
    "Output: [[0,1],[1,0]]\n",
    "Example 3:\n",
    "\n",
    "Input: nums = [1]\n",
    "Output: [[1]]"
   ]
  },
  {
   "cell_type": "code",
   "execution_count": 25,
   "metadata": {},
   "outputs": [],
   "source": [
    "class Solution:\n",
    "    def permute(self, nums: list[int]) -> list[list[int]]:\n",
    "        ret = []\n",
    "        n = len(nums)\n",
    "\n",
    "        def dfs(sub_nums:list):\n",
    "            if len(sub_nums)==n:\n",
    "                ret.append(sub_nums[:])\n",
    "                return\n",
    "            \n",
    "            nums_copy = nums[:]\n",
    "            for num in nums_copy:\n",
    "                sub_nums.append(num)\n",
    "                nums.remove(num)\n",
    "\n",
    "                dfs(sub_nums)\n",
    "                \n",
    "                sub_nums.pop()\n",
    "                nums.append(num)\n",
    "        \n",
    "        dfs([])\n",
    "        return ret"
   ]
  },
  {
   "cell_type": "code",
   "execution_count": 29,
   "metadata": {},
   "outputs": [
    {
     "data": {
      "text/plain": [
       "[[1, 1, 2], [1, 2, 1], [1, 2, 1], [1, 1, 2], [2, 1, 1], [2, 1, 1]]"
      ]
     },
     "execution_count": 29,
     "metadata": {},
     "output_type": "execute_result"
    }
   ],
   "source": [
    "ss = Solution()\n",
    "ss.permute([1,1,2])"
   ]
  },
  {
   "attachments": {},
   "cell_type": "markdown",
   "metadata": {},
   "source": [
    "### 47. Permutations II\n",
    "\n",
    "Given a collection of numbers, nums, that might contain duplicates, return all possible unique permutations in any order.\n",
    "\n",
    "Example 1:\n",
    "\n",
    "Input: nums = [1,1,2]\n",
    "Output:\n",
    "[[1,1,2],\n",
    " [1,2,1],\n",
    " [2,1,1]]\n",
    "Example 2:\n",
    "\n",
    "Input: nums = [1,2,3]\n",
    "Output: [[1,2,3],[1,3,2],[2,1,3],[2,3,1],[3,1,2],[3,2,1]]"
   ]
  },
  {
   "cell_type": "code",
   "execution_count": 1,
   "metadata": {},
   "outputs": [],
   "source": [
    "class Solution:\n",
    "    def permuteUnique(self, nums: list[int]) -> list[list[int]]:\n",
    "        ret = []\n",
    "        n = len(nums)\n",
    "\n",
    "        def dfs(sub_nums:list):\n",
    "            if len(sub_nums)==n:\n",
    "                ret.append(sub_nums[:])\n",
    "                return\n",
    "            \n",
    "            nums_copy = set(nums[:])\n",
    "            for num in nums_copy:\n",
    "                sub_nums.append(num)\n",
    "                # Note: this only delete first element\n",
    "                nums.remove(num)\n",
    "\n",
    "                dfs(sub_nums)\n",
    "                \n",
    "                sub_nums.pop()\n",
    "                nums.append(num)\n",
    "        \n",
    "        dfs([])\n",
    "        return ret "
   ]
  },
  {
   "cell_type": "code",
   "execution_count": 2,
   "metadata": {},
   "outputs": [
    {
     "data": {
      "text/plain": [
       "[[1, 2, 3], [1, 3, 2], [2, 1, 3], [2, 3, 1], [3, 1, 2], [3, 2, 1]]"
      ]
     },
     "execution_count": 2,
     "metadata": {},
     "output_type": "execute_result"
    }
   ],
   "source": [
    "ss = Solution()\n",
    "ss.permuteUnique([1,2,3])"
   ]
  }
 ],
 "metadata": {
  "kernelspec": {
   "display_name": "Python 3",
   "language": "python",
   "name": "python3"
  },
  "language_info": {
   "codemirror_mode": {
    "name": "ipython",
    "version": 3
   },
   "file_extension": ".py",
   "mimetype": "text/x-python",
   "name": "python",
   "nbconvert_exporter": "python",
   "pygments_lexer": "ipython3",
   "version": "3.9.13"
  },
  "orig_nbformat": 4,
  "vscode": {
   "interpreter": {
    "hash": "be59c0aa2c1e192ef7afd22392aaf33d8b2449179640b24bdb1e1e8b645b56b6"
   }
  }
 },
 "nbformat": 4,
 "nbformat_minor": 2
}
