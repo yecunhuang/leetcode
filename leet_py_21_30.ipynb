{
 "cells": [
  {
   "attachments": {},
   "cell_type": "markdown",
   "metadata": {},
   "source": [
    "### 21. 合并两个有序链表"
   ]
  },
  {
   "cell_type": "code",
   "execution_count": null,
   "metadata": {},
   "outputs": [],
   "source": [
    "# Definition for singly-linked list.\n",
    "class ListNode:\n",
    "    def __init__(self, val=0, next=None):\n",
    "        self.val = val\n",
    "        self.next = next\n",
    "\n",
    "class Solution:\n",
    "    def mergeTwoLists(self, list1: ListNode, list2: ListNode)->ListNode:\n",
    "        if list1 == None:\n",
    "            return list2\n",
    "        if list2 == None:\n",
    "            return list1\n",
    "\n",
    "        ret = ListNode()\n",
    "        p1=list1; p2=list2\n",
    "        q=ret\n",
    "        while (p1 is not None) and (p2 is not None):\n",
    "            if p1.val <= p2.val:\n",
    "                q.next = p1\n",
    "                p1 = p1.next\n",
    "            else:\n",
    "                q.next = p2\n",
    "                p2 = p2.next\n",
    "            q = q.next   \n",
    "        \n",
    "        if p1 is not None:\n",
    "            q.next = p1\n",
    "        if p2 is not None:\n",
    "            q.next = p2\n",
    "\n",
    "        return ret.next\n",
    "        "
   ]
  },
  {
   "attachments": {},
   "cell_type": "markdown",
   "metadata": {},
   "source": [
    "### 22. 括号生成\n",
    "数字 n 代表生成括号的对数，请你设计一个函数，用于能够生成所有可能的并且 有效的 括号组合。"
   ]
  },
  {
   "cell_type": "code",
   "execution_count": 2,
   "metadata": {},
   "outputs": [],
   "source": [
    "class Solution:\n",
    "    def generateParenthesis(self, n: int) -> list[str]:\n",
    "        combinations = []\n",
    "\n",
    "        curr_stack = []\n",
    "        combination = []\n",
    "        \n",
    "        def backtrace(step:int):\n",
    "            # nonlocal combinations\n",
    "            # nonlocal curr_stack\n",
    "            # nonlocal combination\n",
    "\n",
    "            if step > n*2 and len(curr_stack)==0 :\n",
    "                combinations.append(''.join(combination))\n",
    "            if step <= n*2:\n",
    "                combination.append('(')\n",
    "                curr_stack.append('(')\n",
    "                backtrace(step+1)\n",
    "\n",
    "                combination.pop()\n",
    "                curr_stack.pop()\n",
    "\n",
    "                if len(curr_stack)>0:\n",
    "                    combination.append(')')\n",
    "                    curr_stack.pop()\n",
    "                    backtrace(step+1)\n",
    "                    combination.pop()\n",
    "                    curr_stack.append('(')\n",
    "\n",
    "        backtrace(1)\n",
    "        return combinations\n"
   ]
  },
  {
   "cell_type": "code",
   "execution_count": 3,
   "metadata": {},
   "outputs": [
    {
     "data": {
      "text/plain": [
       "['((()))', '(()())', '(())()', '()(())', '()()()']"
      ]
     },
     "execution_count": 3,
     "metadata": {},
     "output_type": "execute_result"
    }
   ],
   "source": [
    "ss = Solution()\n",
    "ss.generateParenthesis(3)"
   ]
  },
  {
   "attachments": {},
   "cell_type": "markdown",
   "metadata": {},
   "source": [
    "### 23. 合并K个升序链表\n",
    "\n",
    "给你一个链表数组，每个链表都已经按升序排列。\n",
    "\n",
    "请你将所有链表合并到一个升序链表中，返回合并后的链表"
   ]
  },
  {
   "cell_type": "code",
   "execution_count": null,
   "metadata": {},
   "outputs": [],
   "source": [
    "# Definition for singly-linked list.\n",
    "class ListNode:\n",
    "    def __init__(self, val=0, next=None):\n",
    "        self.val = val\n",
    "        self.next = next\n",
    "class Solution:\n",
    "    def mergeKLists(self, lists: list[ListNode]) -> ListNode:\n",
    "        if len(lists)==0:\n",
    "            return None\n",
    "\n",
    "        nums = []\n",
    "        for i in range(len(lists)):\n",
    "            p = lists[i]\n",
    "            while p is not None:\n",
    "                nums.append(p.val)\n",
    "                p=p.next\n",
    "        nums.sort()\n",
    "\n",
    "        ret = ListNode()\n",
    "        p = ret\n",
    "        for num in nums:\n",
    "            p.next = ListNode(num)\n",
    "            p=p.next\n",
    "\n",
    "        return ret.next  \n",
    "\n",
    "\n",
    "    \n",
    "\n",
    "    def mergeKLists(self, lists: list[ListNode]) -> ListNode:\n",
    "\n",
    "        def mergeTwoList(list1:ListNode,list2:ListNode):\n",
    "            new_list = ListNode()\n",
    "            p1 = list1; p2=list2; p=new_list\n",
    "            \n",
    "            while (p1 is not None) and (p2 is not None):\n",
    "                if p1.val<=p2.val:\n",
    "                    p.next = p1\n",
    "                    p1 = p1.next\n",
    "                else:\n",
    "                    p.next = p2\n",
    "                    p2 = p2.next\n",
    "                p = p.next\n",
    "            \n",
    "            p.next = p1 if p1 is not None else p2\n",
    "            return new_list.next\n",
    "\n",
    "        if len(lists)==0:\n",
    "            return None\n",
    "        ans = lists[0]\n",
    "\n",
    "        for i in range(1,len(lists)):\n",
    "            ans = mergeTwoList(ans,lists[i])\n",
    "\n",
    "        return ans"
   ]
  },
  {
   "cell_type": "code",
   "execution_count": null,
   "metadata": {},
   "outputs": [],
   "source": [
    "ss = Solution()\n",
    "ss.mergeKLists([])"
   ]
  },
  {
   "attachments": {},
   "cell_type": "markdown",
   "metadata": {},
   "source": [
    "### 24. 两两交换链表中的节点\n",
    "给你一个链表，两两交换其中相邻的节点，并返回交换后链表的头节点。你必须在不修改节点内部的值的情况下完成本题（即，只能进行节点交换）"
   ]
  },
  {
   "cell_type": "code",
   "execution_count": null,
   "metadata": {},
   "outputs": [],
   "source": [
    "class Solution:\n",
    "    def swapPairs(self, head: ListNode) -> ListNode:\n",
    "        if head is None:\n",
    "            return None\n",
    "\n",
    "        dummy_head = ListNode()\n",
    "        dummy_head.next = head\n",
    "\n",
    "        p0 = dummy_head\n",
    "        p1 = head\n",
    "        p2 = head.next\n",
    "\n",
    "        if p2 is None:\n",
    "            return head\n",
    "\n",
    "        while True:\n",
    "            p0.next = p2\n",
    "            p1.next = p2.next\n",
    "            p2.next = p1\n",
    "            if (p1.next is None) or (p1.next.next is None):\n",
    "                break\n",
    "            p0 = p1\n",
    "            p1 = p0.next\n",
    "            p2 = p1.next   \n",
    "        return dummy_head.next\n"
   ]
  },
  {
   "cell_type": "code",
   "execution_count": null,
   "metadata": {},
   "outputs": [],
   "source": [
    "ss = Solution()\n",
    "head = ListNode(1)\n",
    "head.next = ListNode(2)\n",
    "head.next.next = ListNode(3)\n",
    "head.next.next.next = ListNode(4)\n",
    "head.next.next.next.next = ListNode(5)\n",
    "head = ss.swapPairs(head)\n",
    "\n",
    "p =head\n",
    "while p is not None:\n",
    "    print(p.val)\n",
    "    p = p.next"
   ]
  },
  {
   "attachments": {},
   "cell_type": "markdown",
   "metadata": {},
   "source": [
    "### 25. K 个一组翻转链表\n",
    "\n",
    "给你链表的头节点 head ，每 k 个节点一组进行翻转，请你返回修改后的链表。\n",
    "\n",
    "k 是一个正整数，它的值小于或等于链表的长度。如果节点总数不是 k 的整数倍，那么请将最后剩余的节点保持原有顺序。\n",
    "\n",
    "你不能只是单纯的改变节点内部的值，而是需要实际进行节点交换。"
   ]
  },
  {
   "cell_type": "code",
   "execution_count": 15,
   "metadata": {},
   "outputs": [],
   "source": [
    "# Definition for singly-linked list.\n",
    "class ListNode:\n",
    "    def __init__(self, val=0, next=None):\n",
    "        self.val = val\n",
    "        self.next = next\n",
    "\n",
    "\n",
    "class Solution:\n",
    "\n",
    "    def reverseKGroup(self, head: ListNode, k: int) -> ListNode:\n",
    "        dummy_head =ListNode()\n",
    "        dummy_head.next = head\n",
    "\n",
    "        p_start = dummy_head\n",
    "\n",
    "        while True:\n",
    "\n",
    "            p_end = p_start\n",
    "            for i in range(k):\n",
    "                if p_end is None:\n",
    "                    break\n",
    "                p_end = p_end.next\n",
    "            if p_end is None:\n",
    "                break\n",
    "\n",
    "            prev = p_end.next\n",
    "            curr = p_start.next\n",
    "            p_next_start = p_start.next\n",
    "\n",
    "            while prev!=p_end:\n",
    "                next = curr.next \n",
    "                curr.next = prev\n",
    "                prev = curr\n",
    "                curr = next\n",
    "            p_start.next = p_end\n",
    "\n",
    "            p_start = p_next_start\n",
    "\n",
    "        return dummy_head.next"
   ]
  },
  {
   "cell_type": "code",
   "execution_count": 17,
   "metadata": {},
   "outputs": [
    {
     "name": "stdout",
     "output_type": "stream",
     "text": [
      "1\n",
      "2\n",
      "3\n",
      "4\n",
      "5\n"
     ]
    }
   ],
   "source": [
    "ss = Solution()\n",
    "nodes = ListNode(1)\n",
    "nodes.next = ListNode(2)\n",
    "nodes.next.next = ListNode(3)\n",
    "nodes.next.next.next = ListNode(4)\n",
    "nodes.next.next.next.next = ListNode(5)\n",
    "\n",
    "ret = ss.reverseKGroup(nodes,1)\n",
    "\n",
    "while ret:\n",
    "    print(ret.val)\n",
    "    ret = ret.next\n"
   ]
  },
  {
   "attachments": {},
   "cell_type": "markdown",
   "metadata": {},
   "source": [
    "### 26. 删除有序数组中的重复项\n",
    "给你一个 升序排列 的数组 nums ，请你 原地 删除重复出现的元素，使每个元素 只出现一次 ，返回删除后数组的新长度。元素的 相对顺序 应该保持 一致 。\n",
    "\n",
    "由于在某些语言中不能改变数组的长度，所以必须将结果放在数组nums的第一部分。更规范地说，如果在删除重复项之后有 k 个元素，那么 nums 的前 k 个元素应该保存最终结果。\n",
    "\n",
    "将最终结果插入 nums 的前 k 个位置后返回 k 。\n",
    "\n",
    "不要使用额外的空间，你必须在 原地 修改输入数组 并在使用 O(1) 额外空间的条件下完成"
   ]
  },
  {
   "cell_type": "code",
   "execution_count": 22,
   "metadata": {},
   "outputs": [],
   "source": [
    "class Solution:\n",
    "    def removeDuplicates(self, nums: list[int]) -> int:\n",
    "        if len(nums)<=1:\n",
    "            return len(nums)\n",
    "\n",
    "        i = 0 \n",
    "        j = i+1\n",
    "        while j<len(nums):\n",
    "            if nums[j]!=nums[i]:\n",
    "                i+=1\n",
    "                nums[i]=nums[j]\n",
    "            j+=1\n",
    "        \n",
    "        return i+1"
   ]
  },
  {
   "cell_type": "code",
   "execution_count": 23,
   "metadata": {},
   "outputs": [
    {
     "data": {
      "text/plain": [
       "5"
      ]
     },
     "execution_count": 23,
     "metadata": {},
     "output_type": "execute_result"
    }
   ],
   "source": [
    "ss = Solution()\n",
    "ss.removeDuplicates([0,0,1,1,1,2,2,3,3,4])"
   ]
  },
  {
   "attachments": {},
   "cell_type": "markdown",
   "metadata": {},
   "source": [
    "### 27. 移除元素\n",
    "给你一个数组 nums 和一个值 val，你需要 原地 移除所有数值等于 val 的元素，并返回移除后数组的新长度。\n",
    "\n",
    "不要使用额外的数组空间，你必须仅使用 O(1) 额外空间并 原地 修改输入数组。\n",
    "\n",
    "元素的顺序可以改变。你不需要考虑数组中超出新长度后面的元素。\n"
   ]
  },
  {
   "cell_type": "code",
   "execution_count": 26,
   "metadata": {},
   "outputs": [],
   "source": [
    "class Solution:\n",
    "    def removeElement(self, nums: list[int], val: int) -> int:\n",
    "        i = -1 \n",
    "        j = i+1\n",
    "        while j<len(nums):\n",
    "            if nums[j]!=val:    \n",
    "                i+=1\n",
    "                nums[i]=nums[j]\n",
    "\n",
    "            j+=1\n",
    "        return i+1"
   ]
  },
  {
   "cell_type": "code",
   "execution_count": 27,
   "metadata": {},
   "outputs": [
    {
     "name": "stdout",
     "output_type": "stream",
     "text": [
      "(6, [1, 23, 45, 5, 55, 32])\n"
     ]
    }
   ],
   "source": [
    "ss = Solution()\n",
    "ret = ss.removeElement(nums=[1,23,45,3,5,3,3,3,55,32],val= 3)\n",
    "print(ret)"
   ]
  },
  {
   "attachments": {},
   "cell_type": "markdown",
   "metadata": {},
   "source": [
    "### 28. 找出字符串中第一个匹配项的下标\n",
    "\n",
    "给你两个字符串 haystack 和 needle ，请你在 haystack 字符串中找出 needle 字符串的第一个匹配项的下标（下标从 0 开始）。如果 needle 不是 haystack 的一部分，则返回  -1 。\n"
   ]
  },
  {
   "cell_type": "code",
   "execution_count": 1,
   "metadata": {},
   "outputs": [],
   "source": [
    "class Solution:\n",
    "\n",
    "    def strStr(self, haystack: str, needle: str) -> int:\n",
    "        next = []\n",
    "\n",
    "        def build_next():\n",
    "            next.append(0)\n",
    "            now = 0\n",
    "            x = 1\n",
    "\n",
    "            while x<len(needle):\n",
    "                if needle[now] == needle[x]:\n",
    "                    x+=1\n",
    "                    now+=1\n",
    "                    next.append(now)\n",
    "                elif now:\n",
    "                    now = next[now-1]\n",
    "                else:\n",
    "                    next.append(0)\n",
    "                    x+=1\n",
    "\n",
    "        def search():\n",
    "            tar =0 #主串中将要匹配的位置\n",
    "            pos =0 #模式串中将要匹配的位置\n",
    "\n",
    "            while tar < len(haystack):\n",
    "                if haystack[tar]==needle[pos]:\n",
    "                    tar+=1\n",
    "                    pos+=1\n",
    "                elif pos!=0:\n",
    "                    pos = next[pos-1]\n",
    "                else:\n",
    "                    tar +=1\n",
    "                \n",
    "                if pos == len(needle):\n",
    "                    return tar - pos\n",
    "            return -1\n",
    "\n",
    "\n",
    "        build_next()\n",
    "        return search()"
   ]
  },
  {
   "cell_type": "code",
   "execution_count": 3,
   "metadata": {},
   "outputs": [
    {
     "data": {
      "text/plain": [
       "-1"
      ]
     },
     "execution_count": 3,
     "metadata": {},
     "output_type": "execute_result"
    }
   ],
   "source": [
    "ss = Solution()\n",
    "ss.strStr(\"leetcode\",'leeto')\n"
   ]
  },
  {
   "attachments": {},
   "cell_type": "markdown",
   "metadata": {},
   "source": [
    "### 29. 两数相除\n",
    "给定两个整数，被除数 dividend 和除数 divisor。将两数相除，要求不使用乘法、除法和 mod 运算符。\n",
    "\n",
    "返回被除数 dividend 除以除数 divisor 得到的商。\n",
    "\n",
    "整数除法的结果应当截去（truncate）其小数部分，例如：truncate(8.345) = 8 以及 truncate(-2.7335) = -2\n"
   ]
  },
  {
   "cell_type": "code",
   "execution_count": 34,
   "metadata": {},
   "outputs": [],
   "source": [
    "class Solution:\n",
    "    def divide(self, dividend: int, divisor: int) -> int:\n",
    "        # assert divisor !=0\n",
    "        INT_MIN = -2**31\n",
    "        if dividend == INT_MIN and divisor == -1:\n",
    "            return 2**31-1\n",
    "        \n",
    "        neg = (dividend <=0) != (divisor <=0)\n",
    "        dividend = -dividend if dividend >=0 else dividend\n",
    "        divisor = -divisor if divisor >0 else divisor\n",
    "        ret = 0\n",
    "\n",
    "        while dividend <= divisor:\n",
    "            exp = 0\n",
    "            while exp<31 and dividend <= (divisor<<exp):\n",
    "                exp+=1\n",
    "            \n",
    "            dividend -= (divisor<<(exp-1))\n",
    "\n",
    "\n",
    "            ret +=  2**(exp-1)\n",
    "\n",
    "        ret = -ret if neg else ret\n",
    "        return ret"
   ]
  },
  {
   "cell_type": "code",
   "execution_count": 36,
   "metadata": {},
   "outputs": [
    {
     "name": "stdout",
     "output_type": "stream",
     "text": [
      "-3\n"
     ]
    }
   ],
   "source": [
    "ss = Solution()\n",
    "ret = ss.divide(-10,3)\n",
    "print(ret)"
   ]
  },
  {
   "attachments": {},
   "cell_type": "markdown",
   "metadata": {},
   "source": [
    "### 30. 串联所有单词的子串\n",
    "\n",
    "给定一个字符串 s 和一个字符串数组 words。 words 中所有字符串 长度相同。\n",
    "\n",
    " s 中的 串联子串 是指一个包含  words 中所有字符串以任意顺序排列连接起来的子串。\n",
    "\n",
    "例如，如果 words = [\"ab\",\"cd\",\"ef\"]， 那么 \"abcdef\"， \"abefcd\"，\"cdabef\"， \"cdefab\"，\"efabcd\"， 和 \"efcdab\" 都是串联子串。 \"acdbef\" 不是串联子串，因为他不是任何 words 排列的连接。\n",
    "返回所有串联字串在 s 中的开始索引。你可以以 任意顺序 返回答案。"
   ]
  },
  {
   "cell_type": "code",
   "execution_count": 66,
   "metadata": {},
   "outputs": [],
   "source": [
    "class Solution:\n",
    "\n",
    "    def findSubstring(self, s: str, words: list[str]) -> list[int]:\n",
    "        mappings  = {}\n",
    "        ret = []\n",
    "\n",
    "        for word in words:\n",
    "            if word in mappings:\n",
    "                mappings[word]+=1\n",
    "            else:\n",
    "                mappings[word]=1\n",
    "        \n",
    "        sub_len = len(words)*len(words[0])\n",
    "\n",
    "        def testSubstr(sub:str):\n",
    "            sub_mappings ={}\n",
    "            len_ = len(words[0])\n",
    "            i=0\n",
    "            while i<len(sub):\n",
    "                word = sub[i:i+len_]\n",
    "                \n",
    "                if word not in mappings:\n",
    "                    return False\n",
    "                if word not in sub_mappings:\n",
    "                    sub_mappings[word]=1\n",
    "                else:\n",
    "                    sub_mappings[word]+=1 \n",
    "\n",
    "                i+=len_   \n",
    "\n",
    "            return sub_mappings==mappings        \n",
    "\n",
    "        for idx in range(len(s)):\n",
    "            if testSubstr(s[idx:idx+sub_len]):\n",
    "                ret.append(idx)\n",
    "            \n",
    "        return ret"
   ]
  },
  {
   "cell_type": "code",
   "execution_count": 69,
   "metadata": {},
   "outputs": [
    {
     "data": {
      "text/plain": [
       "[6, 9, 12]"
      ]
     },
     "execution_count": 69,
     "metadata": {},
     "output_type": "execute_result"
    }
   ],
   "source": [
    "ss = Solution()\n",
    "ss.findSubstring('barfoofoobarthefoobarman',[\"bar\",\"foo\",\"the\"])"
   ]
  },
  {
   "cell_type": "code",
   "execution_count": 45,
   "metadata": {},
   "outputs": [
    {
     "data": {
      "text/plain": [
       "False"
      ]
     },
     "execution_count": 45,
     "metadata": {},
     "output_type": "execute_result"
    }
   ],
   "source": [
    "a = {'a':1,'b':3}\n",
    "b = {'a':1,'b':2}\n",
    "a==b"
   ]
  }
 ],
 "metadata": {
  "kernelspec": {
   "display_name": "Python 3",
   "language": "python",
   "name": "python3"
  },
  "language_info": {
   "codemirror_mode": {
    "name": "ipython",
    "version": 3
   },
   "file_extension": ".py",
   "mimetype": "text/x-python",
   "name": "python",
   "nbconvert_exporter": "python",
   "pygments_lexer": "ipython3",
   "version": "3.9.13 (main, Aug 25 2022, 23:26:10) \n[GCC 11.2.0]"
  },
  "orig_nbformat": 4,
  "vscode": {
   "interpreter": {
    "hash": "be59c0aa2c1e192ef7afd22392aaf33d8b2449179640b24bdb1e1e8b645b56b6"
   }
  }
 },
 "nbformat": 4,
 "nbformat_minor": 2
}
